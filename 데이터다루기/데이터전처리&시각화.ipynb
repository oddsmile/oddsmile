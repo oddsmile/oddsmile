{
 "cells": [
  {
   "cell_type": "markdown",
   "id": "add0cdb5-a3ab-4375-b8ba-f45903408020",
   "metadata": {
    "tags": []
   },
   "source": [
    "### 데이터 전처리"
   ]
  },
  {
   "cell_type": "markdown",
   "id": "7bfa1547-e680-4f45-900c-747964fad01c",
   "metadata": {
    "jupyter": {
     "source_hidden": true
    },
    "tags": []
   },
   "source": [
    "#### 0. 시작하기 앞서"
   ]
  },
  {
   "cell_type": "markdown",
   "id": "1cb8a04a-4c20-4e30-924b-2d5ca9eb4fa4",
   "metadata": {
    "jp-MarkdownHeadingCollapsed": true,
    "tags": []
   },
   "source": [
    "1. 라이브러리 설치 !pip install library\n",
    "2. seaborn library를 통해 실습 데이터 활용"
   ]
  },
  {
   "cell_type": "code",
   "execution_count": 2,
   "id": "dd233a2c-1655-4760-b6bb-e6c85c596e87",
   "metadata": {},
   "outputs": [],
   "source": [
    "import pandas as pd\n",
    "import seaborn as sns"
   ]
  },
  {
   "cell_type": "code",
   "execution_count": null,
   "id": "5c9eb41d-0396-4fde-94de-64ce2eb2fb71",
   "metadata": {},
   "outputs": [],
   "source": [
    "data = sns.load_dataset('tips')"
   ]
  },
  {
   "cell_type": "markdown",
   "id": "7974edf1-bafd-4b77-b785-8f5bea927f58",
   "metadata": {
    "tags": []
   },
   "source": [
    "#### 1. 데이터 불러오기/저장하기"
   ]
  },
  {
   "cell_type": "markdown",
   "id": "f8454a19-bd75-4e70-8c36-0e2d1bc3c5a5",
   "metadata": {},
   "source": [
    "- TIP :     \n",
    "   1) window : 파일탐색기를 사용하여 경로 찾기 또는 명령 프롬프트를 사용하여 경로 찾기    \n",
    "   2) Mac : finder을 통해 경로 찾기 또는 터미널(terminal)을 통해 경로 찾기"
   ]
  },
  {
   "cell_type": "markdown",
   "id": "3b374101-453d-4f61-9ffb-c97168ec16f7",
   "metadata": {
    "tags": []
   },
   "source": [
    "##### 1) to_ and read_"
   ]
  },
  {
   "cell_type": "code",
   "execution_count": null,
   "id": "38aa0bb4-43db-48a6-a7f9-03a6754d29fa",
   "metadata": {},
   "outputs": [],
   "source": [
    "# pd.read_excel('파일경로/파일명.xlsx')\n",
    "# pd.read_csv('파일경로/파일명.csv')"
   ]
  },
  {
   "cell_type": "code",
   "execution_count": null,
   "id": "313b539a-fad2-4831-a9ee-8ca7b6b89538",
   "metadata": {},
   "outputs": [],
   "source": [
    "data.to_csv(\"tips_data.csv\")"
   ]
  },
  {
   "cell_type": "code",
   "execution_count": null,
   "id": "000ee28b-3266-491f-8f26-7aa3a409dc58",
   "metadata": {},
   "outputs": [],
   "source": [
    "# 기존 인덱스 포함 저장되어서 불러올 때 unnamed열이 생김\n",
    "df = pd.read_csv('./tips_data.csv')"
   ]
  },
  {
   "cell_type": "code",
   "execution_count": null,
   "id": "e08e767b-c64c-4cf0-a65b-e01aa5e8e483",
   "metadata": {
    "tags": []
   },
   "outputs": [],
   "source": [
    "# unnamed 제외하고 불러올 때\n",
    "df = pd.read_csv('./tips_data.csv', index_col = 0)"
   ]
  },
  {
   "cell_type": "code",
   "execution_count": null,
   "id": "3868782d-0e09-4bb3-8340-c68812e4964f",
   "metadata": {
    "tags": []
   },
   "outputs": [],
   "source": [
    "# 또는 처음부터 저장할 때 인덱스 제외하고 저장하는 경우\n",
    "data.to_csv('./tips_data.csv', index = False)"
   ]
  },
  {
   "cell_type": "code",
   "execution_count": null,
   "id": "e874808b-bf71-4ae9-bf17-89841a42006e",
   "metadata": {},
   "outputs": [],
   "source": [
    "df = pd.read_csv('./tips_data.csv')"
   ]
  },
  {
   "cell_type": "code",
   "execution_count": null,
   "id": "e9df34c4-dea6-4a7d-aaa0-a436c8afc284",
   "metadata": {},
   "outputs": [],
   "source": [
    "# 만약 excel 파일을 저장하고 읽어올 때 오류가 생긴다면\n",
    "# pip install library openpyxl"
   ]
  },
  {
   "cell_type": "code",
   "execution_count": null,
   "id": "3d4c7998-d1d9-4de6-8886-f408ed6338ff",
   "metadata": {},
   "outputs": [],
   "source": [
    "# 만약 파일이 깨져서 불러와진다면 encoding을 해줘야 한다.\n",
    "# UTF-8 인코딩으로 파일 불러오기\n",
    "#data = pd.read_csv('file.csv', encoding='utf-8')\n",
    "# ASCII 인코딩으로 파일 불러오기\n",
    "#data = pd.read_csv('file.csv', encoding='ascii')"
   ]
  },
  {
   "cell_type": "markdown",
   "id": "23d60391-0758-4148-b6b7-3b9d3b146ea6",
   "metadata": {
    "tags": []
   },
   "source": [
    "##### 2) index"
   ]
  },
  {
   "cell_type": "code",
   "execution_count": null,
   "id": "1ccc6cca-0665-4620-b22f-3ffecc99d181",
   "metadata": {},
   "outputs": [],
   "source": [
    "# pandas는 기본적으로 0부터 시작하는 정수 인덱스 제공"
   ]
  },
  {
   "cell_type": "code",
   "execution_count": 3,
   "id": "99902236-cb8b-4e16-9a12-63d7a1d6256c",
   "metadata": {},
   "outputs": [],
   "source": [
    "df = pd.DataFrame({'A':[1,2,3], \n",
    "                   'B':['a','b','c']})"
   ]
  },
  {
   "cell_type": "code",
   "execution_count": 4,
   "id": "9ea309cf-3224-4654-83ad-81876a9bccfa",
   "metadata": {},
   "outputs": [],
   "source": [
    "# 인덱스 사용자 지정\n",
    "df = pd.DataFrame({'A':[1,2,3], \n",
    "                   'B':['a','b','c']}\n",
    "                 , index = ['idx3','idx2','idx1'])"
   ]
  },
  {
   "cell_type": "code",
   "execution_count": null,
   "id": "bdaa3d93-9cb8-4589-99b7-e3e07d31877d",
   "metadata": {},
   "outputs": [],
   "source": [
    "df.loc['idx2']"
   ]
  },
  {
   "cell_type": "code",
   "execution_count": null,
   "id": "be7d3d81-44a3-43b2-b15d-348451b38b9b",
   "metadata": {},
   "outputs": [],
   "source": [
    "# 인덱스 정렬\n",
    "df.sort_index()"
   ]
  },
  {
   "cell_type": "code",
   "execution_count": null,
   "id": "47e5670b-885d-49ea-b00c-cc1ace416021",
   "metadata": {},
   "outputs": [],
   "source": [
    "# A의 칼럼 값들을 인덱스로 활용\n",
    "df.set_index('A')"
   ]
  },
  {
   "cell_type": "code",
   "execution_count": 5,
   "id": "8918f2ac-199c-4d20-8463-cafaba05714d",
   "metadata": {},
   "outputs": [],
   "source": [
    "# 인덱스 사용자 지정\n",
    "df.index = ['a','b','c']"
   ]
  },
  {
   "cell_type": "code",
   "execution_count": 6,
   "id": "7dcc3f65-4fff-4479-a971-5c35d82e3ee0",
   "metadata": {},
   "outputs": [
    {
     "data": {
      "text/html": [
       "<div>\n",
       "<style scoped>\n",
       "    .dataframe tbody tr th:only-of-type {\n",
       "        vertical-align: middle;\n",
       "    }\n",
       "\n",
       "    .dataframe tbody tr th {\n",
       "        vertical-align: top;\n",
       "    }\n",
       "\n",
       "    .dataframe thead th {\n",
       "        text-align: right;\n",
       "    }\n",
       "</style>\n",
       "<table border=\"1\" class=\"dataframe\">\n",
       "  <thead>\n",
       "    <tr style=\"text-align: right;\">\n",
       "      <th></th>\n",
       "      <th>A</th>\n",
       "      <th>B</th>\n",
       "    </tr>\n",
       "  </thead>\n",
       "  <tbody>\n",
       "    <tr>\n",
       "      <th>a</th>\n",
       "      <td>1</td>\n",
       "      <td>a</td>\n",
       "    </tr>\n",
       "    <tr>\n",
       "      <th>b</th>\n",
       "      <td>2</td>\n",
       "      <td>b</td>\n",
       "    </tr>\n",
       "    <tr>\n",
       "      <th>c</th>\n",
       "      <td>3</td>\n",
       "      <td>c</td>\n",
       "    </tr>\n",
       "  </tbody>\n",
       "</table>\n",
       "</div>"
      ],
      "text/plain": [
       "   A  B\n",
       "a  1  a\n",
       "b  2  b\n",
       "c  3  c"
      ]
     },
     "execution_count": 6,
     "metadata": {},
     "output_type": "execute_result"
    }
   ],
   "source": [
    "df"
   ]
  },
  {
   "cell_type": "code",
   "execution_count": 7,
   "id": "5a86bd20-bdb5-49fa-913c-78012676e800",
   "metadata": {},
   "outputs": [
    {
     "data": {
      "text/html": [
       "<div>\n",
       "<style scoped>\n",
       "    .dataframe tbody tr th:only-of-type {\n",
       "        vertical-align: middle;\n",
       "    }\n",
       "\n",
       "    .dataframe tbody tr th {\n",
       "        vertical-align: top;\n",
       "    }\n",
       "\n",
       "    .dataframe thead th {\n",
       "        text-align: right;\n",
       "    }\n",
       "</style>\n",
       "<table border=\"1\" class=\"dataframe\">\n",
       "  <thead>\n",
       "    <tr style=\"text-align: right;\">\n",
       "      <th></th>\n",
       "      <th>A</th>\n",
       "      <th>B</th>\n",
       "    </tr>\n",
       "  </thead>\n",
       "  <tbody>\n",
       "    <tr>\n",
       "      <th>0</th>\n",
       "      <td>1</td>\n",
       "      <td>a</td>\n",
       "    </tr>\n",
       "    <tr>\n",
       "      <th>1</th>\n",
       "      <td>2</td>\n",
       "      <td>b</td>\n",
       "    </tr>\n",
       "    <tr>\n",
       "      <th>2</th>\n",
       "      <td>3</td>\n",
       "      <td>c</td>\n",
       "    </tr>\n",
       "  </tbody>\n",
       "</table>\n",
       "</div>"
      ],
      "text/plain": [
       "   A  B\n",
       "0  1  a\n",
       "1  2  b\n",
       "2  3  c"
      ]
     },
     "execution_count": 7,
     "metadata": {},
     "output_type": "execute_result"
    }
   ],
   "source": [
    "# 인덱스 초기화\n",
    "df.reset_index(drop = True)"
   ]
  },
  {
   "cell_type": "markdown",
   "id": "691b7ff3-32d4-44e8-8de6-483e642df0e8",
   "metadata": {
    "tags": []
   },
   "source": [
    "##### 3) 칼럼"
   ]
  },
  {
   "cell_type": "code",
   "execution_count": null,
   "id": "499dfeb3-e217-466a-9451-2a72d5e044fb",
   "metadata": {},
   "outputs": [],
   "source": [
    "# 데이터프레임 생성\n",
    "data = {\n",
    "    '이름': ['Alice', 'Bob', 'Charlie'],\n",
    "    '나이': [25, 30, 35],\n",
    "    '성별': ['여', '남', '남']\n",
    "}\n",
    "\n",
    "df = pd.DataFrame(data)"
   ]
  },
  {
   "cell_type": "code",
   "execution_count": null,
   "id": "030aae1f-efe7-4cca-b318-70a9e00eca0c",
   "metadata": {},
   "outputs": [],
   "source": [
    "# 각 컬럼 출력\n",
    "print(df['이름'])  # '이름' 컬럼 출력\n",
    "print(df['나이'])  # '나이' 컬럼 출력\n",
    "print(df['성별'])  # '성별' 컬럼 출력"
   ]
  },
  {
   "cell_type": "code",
   "execution_count": null,
   "id": "e3b34039-db3f-454c-95d6-228f37a57d08",
   "metadata": {},
   "outputs": [],
   "source": [
    "df.columns"
   ]
  },
  {
   "cell_type": "code",
   "execution_count": null,
   "id": "da65f1d5-88e4-49ee-b4d3-7988c0bc1455",
   "metadata": {},
   "outputs": [],
   "source": [
    "df.columns = ['name','age','gender']"
   ]
  },
  {
   "cell_type": "code",
   "execution_count": null,
   "id": "8cb26a70-1523-4a1a-8231-fc291f63153f",
   "metadata": {},
   "outputs": [],
   "source": [
    "# 또는\n",
    "df = df.rename(columns = {'name':'이름', 'age' : '나이', 'gender' : '성별'}) "
   ]
  },
  {
   "cell_type": "code",
   "execution_count": null,
   "id": "3a1d8bee-734b-4bec-bb80-2b66471fcd54",
   "metadata": {},
   "outputs": [],
   "source": [
    "# 칼럼 추가\n",
    "df['스포츠'] = ['농구','축구','야구']"
   ]
  },
  {
   "cell_type": "code",
   "execution_count": null,
   "id": "23ff08c0-b8b6-4e97-a6b2-f357a6f5ac96",
   "metadata": {},
   "outputs": [],
   "source": [
    "# 칼럼 삭제\n",
    "del df['스포츠']"
   ]
  },
  {
   "cell_type": "code",
   "execution_count": null,
   "id": "a8bc7300-1cf8-42ed-bdf3-fe837bd635ad",
   "metadata": {},
   "outputs": [],
   "source": []
  },
  {
   "cell_type": "markdown",
   "id": "3d39d3e9-892d-41c2-8a90-9cbbad322da0",
   "metadata": {
    "tags": []
   },
   "source": [
    "#### 3. 데이터 확인"
   ]
  },
  {
   "cell_type": "code",
   "execution_count": null,
   "id": "77214adf-58e4-4896-bc2d-b78e12d19ed2",
   "metadata": {},
   "outputs": [
    {
     "data": {
      "text/html": [
       "<div>\n",
       "<style scoped>\n",
       "    .dataframe tbody tr th:only-of-type {\n",
       "        vertical-align: middle;\n",
       "    }\n",
       "\n",
       "    .dataframe tbody tr th {\n",
       "        vertical-align: top;\n",
       "    }\n",
       "\n",
       "    .dataframe thead th {\n",
       "        text-align: right;\n",
       "    }\n",
       "</style>\n",
       "<table border=\"1\" class=\"dataframe\">\n",
       "  <thead>\n",
       "    <tr style=\"text-align: right;\">\n",
       "      <th></th>\n",
       "      <th>total_bill</th>\n",
       "      <th>tip</th>\n",
       "      <th>sex</th>\n",
       "      <th>smoker</th>\n",
       "      <th>day</th>\n",
       "      <th>time</th>\n",
       "      <th>size</th>\n",
       "    </tr>\n",
       "  </thead>\n",
       "  <tbody>\n",
       "    <tr>\n",
       "      <th>0</th>\n",
       "      <td>16.99</td>\n",
       "      <td>1.01</td>\n",
       "      <td>Female</td>\n",
       "      <td>No</td>\n",
       "      <td>Sun</td>\n",
       "      <td>Dinner</td>\n",
       "      <td>2</td>\n",
       "    </tr>\n",
       "    <tr>\n",
       "      <th>1</th>\n",
       "      <td>10.34</td>\n",
       "      <td>1.66</td>\n",
       "      <td>Male</td>\n",
       "      <td>No</td>\n",
       "      <td>Sun</td>\n",
       "      <td>Dinner</td>\n",
       "      <td>3</td>\n",
       "    </tr>\n",
       "    <tr>\n",
       "      <th>2</th>\n",
       "      <td>21.01</td>\n",
       "      <td>3.50</td>\n",
       "      <td>Male</td>\n",
       "      <td>No</td>\n",
       "      <td>Sun</td>\n",
       "      <td>Dinner</td>\n",
       "      <td>3</td>\n",
       "    </tr>\n",
       "    <tr>\n",
       "      <th>3</th>\n",
       "      <td>23.68</td>\n",
       "      <td>3.31</td>\n",
       "      <td>Male</td>\n",
       "      <td>No</td>\n",
       "      <td>Sun</td>\n",
       "      <td>Dinner</td>\n",
       "      <td>2</td>\n",
       "    </tr>\n",
       "    <tr>\n",
       "      <th>4</th>\n",
       "      <td>24.59</td>\n",
       "      <td>3.61</td>\n",
       "      <td>Female</td>\n",
       "      <td>No</td>\n",
       "      <td>Sun</td>\n",
       "      <td>Dinner</td>\n",
       "      <td>4</td>\n",
       "    </tr>\n",
       "  </tbody>\n",
       "</table>\n",
       "</div>"
      ],
      "text/plain": [
       "   total_bill   tip     sex smoker  day    time  size\n",
       "0       16.99  1.01  Female     No  Sun  Dinner     2\n",
       "1       10.34  1.66    Male     No  Sun  Dinner     3\n",
       "2       21.01  3.50    Male     No  Sun  Dinner     3\n",
       "3       23.68  3.31    Male     No  Sun  Dinner     2\n",
       "4       24.59  3.61  Female     No  Sun  Dinner     4"
      ]
     },
     "execution_count": 6,
     "metadata": {},
     "output_type": "execute_result"
    }
   ],
   "source": [
    "data.head()"
   ]
  },
  {
   "cell_type": "code",
   "execution_count": null,
   "id": "1c447d97-6d55-4d3a-9f08-834bf836b2dc",
   "metadata": {},
   "outputs": [
    {
     "name": "stdout",
     "output_type": "stream",
     "text": [
      "<class 'pandas.core.frame.DataFrame'>\n",
      "RangeIndex: 244 entries, 0 to 243\n",
      "Data columns (total 7 columns):\n",
      " #   Column      Non-Null Count  Dtype   \n",
      "---  ------      --------------  -----   \n",
      " 0   total_bill  244 non-null    float64 \n",
      " 1   tip         244 non-null    float64 \n",
      " 2   sex         244 non-null    category\n",
      " 3   smoker      244 non-null    category\n",
      " 4   day         244 non-null    category\n",
      " 5   time        244 non-null    category\n",
      " 6   size        244 non-null    int64   \n",
      "dtypes: category(4), float64(2), int64(1)\n",
      "memory usage: 7.4 KB\n"
     ]
    }
   ],
   "source": [
    "# 결측치(null)가 있는지, 데이터 타입은 잘 맞는지 확인할 것!\n",
    "data.info()"
   ]
  },
  {
   "cell_type": "code",
   "execution_count": null,
   "id": "8dcaf9ec-5f9e-4867-84d4-b762a038594d",
   "metadata": {},
   "outputs": [
    {
     "data": {
      "text/html": [
       "<div>\n",
       "<style scoped>\n",
       "    .dataframe tbody tr th:only-of-type {\n",
       "        vertical-align: middle;\n",
       "    }\n",
       "\n",
       "    .dataframe tbody tr th {\n",
       "        vertical-align: top;\n",
       "    }\n",
       "\n",
       "    .dataframe thead th {\n",
       "        text-align: right;\n",
       "    }\n",
       "</style>\n",
       "<table border=\"1\" class=\"dataframe\">\n",
       "  <thead>\n",
       "    <tr style=\"text-align: right;\">\n",
       "      <th></th>\n",
       "      <th>total_bill</th>\n",
       "      <th>tip</th>\n",
       "      <th>size</th>\n",
       "    </tr>\n",
       "  </thead>\n",
       "  <tbody>\n",
       "    <tr>\n",
       "      <th>count</th>\n",
       "      <td>244.000000</td>\n",
       "      <td>244.000000</td>\n",
       "      <td>244.000000</td>\n",
       "    </tr>\n",
       "    <tr>\n",
       "      <th>mean</th>\n",
       "      <td>19.785943</td>\n",
       "      <td>2.998279</td>\n",
       "      <td>2.569672</td>\n",
       "    </tr>\n",
       "    <tr>\n",
       "      <th>std</th>\n",
       "      <td>8.902412</td>\n",
       "      <td>1.383638</td>\n",
       "      <td>0.951100</td>\n",
       "    </tr>\n",
       "    <tr>\n",
       "      <th>min</th>\n",
       "      <td>3.070000</td>\n",
       "      <td>1.000000</td>\n",
       "      <td>1.000000</td>\n",
       "    </tr>\n",
       "    <tr>\n",
       "      <th>25%</th>\n",
       "      <td>13.347500</td>\n",
       "      <td>2.000000</td>\n",
       "      <td>2.000000</td>\n",
       "    </tr>\n",
       "    <tr>\n",
       "      <th>50%</th>\n",
       "      <td>17.795000</td>\n",
       "      <td>2.900000</td>\n",
       "      <td>2.000000</td>\n",
       "    </tr>\n",
       "    <tr>\n",
       "      <th>75%</th>\n",
       "      <td>24.127500</td>\n",
       "      <td>3.562500</td>\n",
       "      <td>3.000000</td>\n",
       "    </tr>\n",
       "    <tr>\n",
       "      <th>max</th>\n",
       "      <td>50.810000</td>\n",
       "      <td>10.000000</td>\n",
       "      <td>6.000000</td>\n",
       "    </tr>\n",
       "  </tbody>\n",
       "</table>\n",
       "</div>"
      ],
      "text/plain": [
       "       total_bill         tip        size\n",
       "count  244.000000  244.000000  244.000000\n",
       "mean    19.785943    2.998279    2.569672\n",
       "std      8.902412    1.383638    0.951100\n",
       "min      3.070000    1.000000    1.000000\n",
       "25%     13.347500    2.000000    2.000000\n",
       "50%     17.795000    2.900000    2.000000\n",
       "75%     24.127500    3.562500    3.000000\n",
       "max     50.810000   10.000000    6.000000"
      ]
     },
     "execution_count": 8,
     "metadata": {},
     "output_type": "execute_result"
    }
   ],
   "source": [
    "data.describe()"
   ]
  },
  {
   "cell_type": "markdown",
   "id": "511292d0-cfbf-4926-8bee-9d354fdba0e2",
   "metadata": {},
   "source": [
    "데이터 타입으로 int, float, object(str), bool, datetime, timedelta, category가 있다"
   ]
  },
  {
   "cell_type": "code",
   "execution_count": null,
   "id": "773ae337-99d0-4f65-aa6f-5a7ef41ce971",
   "metadata": {},
   "outputs": [
    {
     "name": "stdout",
     "output_type": "stream",
     "text": [
      "integer_column    float64\n",
      "dtype: object\n"
     ]
    }
   ],
   "source": [
    "# 만약 데이터 타입을 변경해야 한다면\n",
    "# 예시\n",
    "data = {'integer_column': [1, 2, 3, 4, 5]}\n",
    "df = pd.DataFrame(data)\n",
    "\n",
    "# 정수형 열을 부동소수점으로 변환\n",
    "df['integer_column'] = df['integer_column'].astype(float)\n",
    "print(df.dtypes)  # 데이터프레임의 열 타입 확인"
   ]
  },
  {
   "cell_type": "markdown",
   "id": "d6f4c8f1-adfa-45fc-9487-a302e36ecc0a",
   "metadata": {
    "jp-MarkdownHeadingCollapsed": true,
    "tags": []
   },
   "source": [
    "#### 4. 데이터 선택 (iloc, loc)"
   ]
  },
  {
   "cell_type": "code",
   "execution_count": null,
   "id": "083cfbcf-dd97-4347-bbea-2ea12dd88282",
   "metadata": {},
   "outputs": [
    {
     "name": "stdout",
     "output_type": "stream",
     "text": [
      "   A   B\n",
      "1  2  20\n",
      "2  3  30\n",
      "3  4  40\n"
     ]
    }
   ],
   "source": [
    "# .iloc[행,열] : 인덱스 번호로 선택하기\n",
    "# 샘플 데이터프레임 생성\n",
    "data = {\n",
    "    'A': [1, 2, 3, 4, 5],\n",
    "    'B': [10, 20, 30, 40, 50],\n",
    "    'C': [100, 200, 300, 400, 500]\n",
    "}\n",
    "df = pd.DataFrame(data)\n",
    "\n",
    "# iloc을 사용하여 특정 행과 열 선택\n",
    "selected_data = df.iloc[1:4, 0:2]  # 인덱스 1부터 3까지의 행과 0부터 1까지의 열 선택\n",
    "print(selected_data)"
   ]
  },
  {
   "cell_type": "code",
   "execution_count": null,
   "id": "02e4c44f-26c2-46aa-87a1-7150c60692e6",
   "metadata": {},
   "outputs": [
    {
     "name": "stdout",
     "output_type": "stream",
     "text": [
      "   A   B\n",
      "b  2  20\n",
      "c  3  30\n",
      "d  4  40\n"
     ]
    }
   ],
   "source": [
    "#.loc[행,열] : 인덱스 이름으로 선택하기\n",
    "# 샘플 데이터프레임 생성\n",
    "data = {\n",
    "    'A': [1, 2, 3, 4, 5],\n",
    "    'B': [10, 20, 30, 40, 50],\n",
    "    'C': [100, 200, 300, 400, 500]\n",
    "}\n",
    "df = pd.DataFrame(data, index=['a', 'b', 'c', 'd', 'e'])\n",
    "\n",
    "# loc을 사용하여 특정 행과 열 선택\n",
    "selected_data = df.loc['b':'d', 'A':'B']  # 레이블 'b'부터 'd'까지의 행과 'A'부터 'B'까지의 열 선택\n",
    "print(selected_data)"
   ]
  },
  {
   "cell_type": "code",
   "execution_count": null,
   "id": "6c75172e-5e15-4e1f-a464-2e70a60e510f",
   "metadata": {},
   "outputs": [
    {
     "data": {
      "text/html": [
       "<div>\n",
       "<style scoped>\n",
       "    .dataframe tbody tr th:only-of-type {\n",
       "        vertical-align: middle;\n",
       "    }\n",
       "\n",
       "    .dataframe tbody tr th {\n",
       "        vertical-align: top;\n",
       "    }\n",
       "\n",
       "    .dataframe thead th {\n",
       "        text-align: right;\n",
       "    }\n",
       "</style>\n",
       "<table border=\"1\" class=\"dataframe\">\n",
       "  <thead>\n",
       "    <tr style=\"text-align: right;\">\n",
       "      <th></th>\n",
       "      <th>A</th>\n",
       "      <th>B</th>\n",
       "      <th>C</th>\n",
       "    </tr>\n",
       "  </thead>\n",
       "  <tbody>\n",
       "    <tr>\n",
       "      <th>d</th>\n",
       "      <td>4</td>\n",
       "      <td>40</td>\n",
       "      <td>400</td>\n",
       "    </tr>\n",
       "    <tr>\n",
       "      <th>e</th>\n",
       "      <td>5</td>\n",
       "      <td>50</td>\n",
       "      <td>500</td>\n",
       "    </tr>\n",
       "  </tbody>\n",
       "</table>\n",
       "</div>"
      ],
      "text/plain": [
       "   A   B    C\n",
       "d  4  40  400\n",
       "e  5  50  500"
      ]
     },
     "execution_count": 13,
     "metadata": {},
     "output_type": "execute_result"
    }
   ],
   "source": [
    "# 특정 조건을 만족하는 데이터 선택하는 경우\n",
    "df[df['A'] > 3 ]"
   ]
  },
  {
   "cell_type": "code",
   "execution_count": null,
   "id": "fde18fc8-7404-4256-914f-b1ff8fc57ee4",
   "metadata": {},
   "outputs": [
    {
     "data": {
      "text/html": [
       "<div>\n",
       "<style scoped>\n",
       "    .dataframe tbody tr th:only-of-type {\n",
       "        vertical-align: middle;\n",
       "    }\n",
       "\n",
       "    .dataframe tbody tr th {\n",
       "        vertical-align: top;\n",
       "    }\n",
       "\n",
       "    .dataframe thead th {\n",
       "        text-align: right;\n",
       "    }\n",
       "</style>\n",
       "<table border=\"1\" class=\"dataframe\">\n",
       "  <thead>\n",
       "    <tr style=\"text-align: right;\">\n",
       "      <th></th>\n",
       "      <th>A</th>\n",
       "      <th>B</th>\n",
       "      <th>C</th>\n",
       "    </tr>\n",
       "  </thead>\n",
       "  <tbody>\n",
       "    <tr>\n",
       "      <th>e</th>\n",
       "      <td>5</td>\n",
       "      <td>50</td>\n",
       "      <td>500</td>\n",
       "    </tr>\n",
       "  </tbody>\n",
       "</table>\n",
       "</div>"
      ],
      "text/plain": [
       "   A   B    C\n",
       "e  5  50  500"
      ]
     },
     "execution_count": 15,
     "metadata": {},
     "output_type": "execute_result"
    }
   ],
   "source": [
    "# and - & or - |\n",
    "df[(df['A'] > 3) & (df['B'] > 40)]"
   ]
  },
  {
   "cell_type": "code",
   "execution_count": null,
   "id": "3c18bfc4-5fef-43de-af59-dd777d51a7fa",
   "metadata": {},
   "outputs": [
    {
     "data": {
      "text/plain": [
       "d    40\n",
       "e    50\n",
       "Name: B, dtype: int64"
      ]
     },
     "execution_count": 18,
     "metadata": {},
     "output_type": "execute_result"
    }
   ],
   "source": [
    "df.loc[df['A'] > 3, 'B']"
   ]
  },
  {
   "cell_type": "code",
   "execution_count": null,
   "id": "e96f1de5-ed22-4c40-8ef9-e2cc1a261d74",
   "metadata": {},
   "outputs": [
    {
     "data": {
      "text/html": [
       "<div>\n",
       "<style scoped>\n",
       "    .dataframe tbody tr th:only-of-type {\n",
       "        vertical-align: middle;\n",
       "    }\n",
       "\n",
       "    .dataframe tbody tr th {\n",
       "        vertical-align: top;\n",
       "    }\n",
       "\n",
       "    .dataframe thead th {\n",
       "        text-align: right;\n",
       "    }\n",
       "</style>\n",
       "<table border=\"1\" class=\"dataframe\">\n",
       "  <thead>\n",
       "    <tr style=\"text-align: right;\">\n",
       "      <th></th>\n",
       "      <th>A</th>\n",
       "      <th>B</th>\n",
       "      <th>C</th>\n",
       "    </tr>\n",
       "  </thead>\n",
       "  <tbody>\n",
       "    <tr>\n",
       "      <th>b</th>\n",
       "      <td>2</td>\n",
       "      <td>20</td>\n",
       "      <td>200</td>\n",
       "    </tr>\n",
       "    <tr>\n",
       "      <th>c</th>\n",
       "      <td>3</td>\n",
       "      <td>30</td>\n",
       "      <td>300</td>\n",
       "    </tr>\n",
       "    <tr>\n",
       "      <th>d</th>\n",
       "      <td>4</td>\n",
       "      <td>40</td>\n",
       "      <td>400</td>\n",
       "    </tr>\n",
       "  </tbody>\n",
       "</table>\n",
       "</div>"
      ],
      "text/plain": [
       "   A   B    C\n",
       "b  2  20  200\n",
       "c  3  30  300\n",
       "d  4  40  400"
      ]
     },
     "execution_count": 25,
     "metadata": {},
     "output_type": "execute_result"
    }
   ],
   "source": [
    "# isin() 활용 해당 열의 해당하는 값들 추출\n",
    "df[df['A'].isin([2,3,4])]"
   ]
  },
  {
   "cell_type": "code",
   "execution_count": null,
   "id": "95f33998-ffe4-4a31-8fce-c8c6707989e1",
   "metadata": {},
   "outputs": [],
   "source": [
    "# 조건은 따로 객체에 저장해두는 것이 가독성에 좋음\n",
    "# 또한 여러 조건일 때 열바꿈으로 가독성 높일 수 있다\n",
    "# 에시\n",
    "condition = (data['칼럼명1'] < 80) \\ \n",
    "            & (data['칼럼명2'] >= 50) \\\n",
    "            & (data['칼럼명3'] >= 10)\n",
    "data[condition]"
   ]
  },
  {
   "cell_type": "markdown",
   "id": "b8062047-0dae-4fa1-b3e9-90674b36f78a",
   "metadata": {
    "jp-MarkdownHeadingCollapsed": true,
    "tags": []
   },
   "source": [
    "#### 5. 데이터 병합"
   ]
  },
  {
   "cell_type": "markdown",
   "id": "eec46b8b-69b5-403a-ace9-d7ef11274f0b",
   "metadata": {
    "jp-MarkdownHeadingCollapsed": true,
    "tags": []
   },
   "source": [
    "##### 1) concat(df1,df2, axis = 0)"
   ]
  },
  {
   "cell_type": "code",
   "execution_count": null,
   "id": "f93133fa-95a1-4109-939a-ece5c2c42a42",
   "metadata": {},
   "outputs": [
    {
     "name": "stdout",
     "output_type": "stream",
     "text": [
      "위아래 연결 결과:\n",
      "     A   B\n",
      "0  A0  B0\n",
      "1  A1  B1\n",
      "2  A2  B2\n",
      "0  A3  B3\n",
      "1  A4  B4\n",
      "2  A5  B5\n",
      "\n",
      "좌우 연결 결과:\n",
      "     A   B   A   B\n",
      "0  A0  B0  A3  B3\n",
      "1  A1  B1  A4  B4\n",
      "2  A2  B2  A5  B5\n"
     ]
    }
   ],
   "source": [
    "# 두 개의 데이터프레임 생성\n",
    "df1 = pd.DataFrame({'A': ['A0', 'A1', 'A2'], 'B': ['B0', 'B1', 'B2']})\n",
    "df2 = pd.DataFrame({'A': ['A3', 'A4', 'A5'], 'B': ['B3', 'B4', 'B5']})\n",
    "\n",
    "# 위아래로 데이터프레임 연결\n",
    "result_vertical = pd.concat([df1, df2], axis=0)\n",
    "\n",
    "# 좌우로 데이터프레임 연결\n",
    "result_horizontal = pd.concat([df1, df2], axis=1)\n",
    "\n",
    "print(\"위아래 연결 결과:\\n\", result_vertical)\n",
    "print(\"\\n좌우 연결 결과:\\n\", result_horizontal)"
   ]
  },
  {
   "cell_type": "markdown",
   "id": "9dd11ac2-8459-4b8d-ae03-61c5efb6ab30",
   "metadata": {
    "jp-MarkdownHeadingCollapsed": true,
    "tags": []
   },
   "source": [
    "##### 2) merge(df1, df2, on = 'key', how = '__')"
   ]
  },
  {
   "cell_type": "code",
   "execution_count": null,
   "id": "bff3a7e4-3a4d-48be-ab07-b2f43af68fc4",
   "metadata": {},
   "outputs": [
    {
     "name": "stdout",
     "output_type": "stream",
     "text": [
      "  key  value_x  value_y\n",
      "0   B        2        5\n",
      "1   D        4        6\n"
     ]
    }
   ],
   "source": [
    "import pandas as pd\n",
    "\n",
    "# 두 개의 데이터프레임 생성\n",
    "left_df = pd.DataFrame({'key': ['A', 'B', 'C', 'D'], 'value': [1, 2, 3, 4]})\n",
    "right_df = pd.DataFrame({'key': ['B', 'D', 'E', 'F'], 'value': [5, 6, 7, 8]})\n",
    "\n",
    "# on = 'key' 열을 기준으로 두 데이터프레임 병합\n",
    "# how = inner, outer, left, right\n",
    "merged_df = pd.merge(left_df, right_df, on='key', how='inner')\n",
    "\n",
    "print(merged_df)"
   ]
  },
  {
   "cell_type": "markdown",
   "id": "c7da840d-cfc2-45ca-aba0-54f85cbb5310",
   "metadata": {},
   "source": [
    "#### 6. 데이터 집계"
   ]
  },
  {
   "cell_type": "markdown",
   "id": "dab22879-047b-4c42-a4b4-4c4c7b2c2aac",
   "metadata": {},
   "source": [
    "##### 1) groupby(' ').func()"
   ]
  },
  {
   "cell_type": "code",
   "execution_count": null,
   "id": "d8c46af3-c118-4a03-b1bd-9ff18a052906",
   "metadata": {},
   "outputs": [],
   "source": [
    "# 샘플 데이터프레임 생성\n",
    "data = {\n",
    "    'Category': ['A', 'B', 'A', 'B', 'A', 'B'],\n",
    "    'Value': [1, 2, 3, 4, 5, 6]\n",
    "}\n",
    "df = pd.DataFrame(data)\n",
    "\n",
    "# 'Category' 열을 기준으로 그룹화하여 'Value'의 연산 수행\n",
    "grouped_mean = df.groupby('Category').mean()\n",
    "grouped_sum = df.groupby('Category').sum()\n",
    "grouped_count = df.groupby('Category').count()\n",
    "grouped_max = df.groupby('Category').max()\n",
    "grouped_min = df.groupby('Category').min()\n",
    "\n",
    "# 수치형 데이터의 경우에 연산이 가능"
   ]
  },
  {
   "cell_type": "code",
   "execution_count": null,
   "id": "1ac3b3b9-4036-4c22-a36f-f8022a0f2676",
   "metadata": {},
   "outputs": [
    {
     "name": "stdout",
     "output_type": "stream",
     "text": [
      "                      Value\n",
      "Category SubCategory       \n",
      "A        X                6\n",
      "         Y                2\n",
      "B        X                3\n",
      "         Y               10\n"
     ]
    }
   ],
   "source": [
    "# 복수 열을 기준으로 그룹화할 때\n",
    "# 샘플 데이터프레임 생성\n",
    "data = {\n",
    "    'Category': ['A', 'A', 'B', 'B', 'A', 'B'],\n",
    "    'SubCategory': ['X', 'Y', 'X', 'Y', 'X', 'Y'],\n",
    "    'Value': [1, 2, 3, 4, 5, 6]\n",
    "}\n",
    "df = pd.DataFrame(data)\n",
    "\n",
    "# 'Category'와 'SubCategory' 열을 기준으로 그룹화하여 'Value'의 합 계산\n",
    "grouped_multiple = df.groupby(['Category', 'SubCategory']).sum()\n",
    "\n",
    "print(grouped_multiple)"
   ]
  },
  {
   "cell_type": "code",
   "execution_count": 1,
   "id": "27f98ca4-6bab-4c52-b3ce-5f5efd8449c8",
   "metadata": {},
   "outputs": [
    {
     "ename": "NameError",
     "evalue": "name 'pd' is not defined",
     "output_type": "error",
     "traceback": [
      "\u001b[1;31m---------------------------------------------------------------------------\u001b[0m",
      "\u001b[1;31mNameError\u001b[0m                                 Traceback (most recent call last)",
      "\u001b[1;32m~\\AppData\\Local\\Temp\\ipykernel_25008\\2714532134.py\u001b[0m in \u001b[0;36m<module>\u001b[1;34m\u001b[0m\n\u001b[0;32m      7\u001b[0m     \u001b[1;34m'Value2'\u001b[0m\u001b[1;33m:\u001b[0m \u001b[1;33m[\u001b[0m\u001b[1;36m10\u001b[0m\u001b[1;33m,\u001b[0m \u001b[1;36m20\u001b[0m\u001b[1;33m,\u001b[0m \u001b[1;36m30\u001b[0m\u001b[1;33m,\u001b[0m \u001b[1;36m40\u001b[0m\u001b[1;33m,\u001b[0m \u001b[1;36m50\u001b[0m\u001b[1;33m,\u001b[0m \u001b[1;36m60\u001b[0m\u001b[1;33m]\u001b[0m\u001b[1;33m\u001b[0m\u001b[1;33m\u001b[0m\u001b[0m\n\u001b[0;32m      8\u001b[0m }\n\u001b[1;32m----> 9\u001b[1;33m \u001b[0mdf\u001b[0m \u001b[1;33m=\u001b[0m \u001b[0mpd\u001b[0m\u001b[1;33m.\u001b[0m\u001b[0mDataFrame\u001b[0m\u001b[1;33m(\u001b[0m\u001b[0mdata\u001b[0m\u001b[1;33m)\u001b[0m\u001b[1;33m\u001b[0m\u001b[1;33m\u001b[0m\u001b[0m\n\u001b[0m\u001b[0;32m     10\u001b[0m \u001b[1;33m\u001b[0m\u001b[0m\n\u001b[0;32m     11\u001b[0m \u001b[1;31m# 'Category'와 'SubCategory' 열을 기준으로 그룹화하여 각 그룹별 'Value1'과 'Value2'의 평균, 합 계산\u001b[0m\u001b[1;33m\u001b[0m\u001b[1;33m\u001b[0m\u001b[0m\n",
      "\u001b[1;31mNameError\u001b[0m: name 'pd' is not defined"
     ]
    }
   ],
   "source": [
    "# 복수 열을 기준으로 다양한 값을 계산할 때\n",
    "# 샘플 데이터프레임 생성\n",
    "data = {\n",
    "    'Category': ['A', 'A', 'B', 'B', 'A', 'B'],\n",
    "    'SubCategory': ['X', 'Y', 'X', 'Y', 'X', 'Y'],\n",
    "    'Value1': [1, 2, 3, 4, 5, 6],\n",
    "    'Value2': [10, 20, 30, 40, 50, 60]\n",
    "}\n",
    "df = pd.DataFrame(data)\n",
    "\n",
    "# 'Category'와 'SubCategory' 열을 기준으로 그룹화하여 각 그룹별 'Value1'과 'Value2'의 평균, 합 계산\n",
    "# agg()를 사용하여 여러 열에 대한 다양한 집계함수 적용\n",
    "grouped_multiple = df.groupby(['Category', 'SubCategory']).agg({'Value1': ['mean', 'sum'], 'Value2': 'sum'})\n",
    "\n",
    "print(grouped_multiple)"
   ]
  },
  {
   "cell_type": "markdown",
   "id": "03e87c52-f0c3-40bf-a869-fc4aa4200bc3",
   "metadata": {},
   "source": [
    "##### 2) pivot_table(index = , columns = , values = , aggfunc = ' ')"
   ]
  },
  {
   "cell_type": "code",
   "execution_count": null,
   "id": "4c2dc721-7a73-45ca-882c-c2f20988fe21",
   "metadata": {},
   "outputs": [
    {
     "name": "stdout",
     "output_type": "stream",
     "text": [
      "Category     A   B\n",
      "Date              \n",
      "2023-01-01  60  20\n",
      "2023-01-02  30  40\n"
     ]
    }
   ],
   "source": [
    "# 피봇 테이블\n",
    "# 샘플 데이터프레임 생성\n",
    "data = {\n",
    "    'Date': ['2023-01-01', '2023-01-01', '2023-01-02', '2023-01-02', '2023-01-01'],\n",
    "    'Category': ['A', 'B', 'A', 'B', 'A'],\n",
    "    'Value': [10, 20, 30, 40, 50]\n",
    "}\n",
    "df = pd.DataFrame(data)\n",
    "\n",
    "# 피벗 테이블 생성: 날짜를 행 인덱스로, 카테고리를 열 인덱스로, 값은 'Value'의 합으로 집계\n",
    "pivot = df.pivot_table(index='Date', columns='Category', values='Value', aggfunc='sum')\n",
    "\n",
    "print(pivot)"
   ]
  },
  {
   "cell_type": "code",
   "execution_count": null,
   "id": "b6c9176f-5c38-473a-992e-79e6e7f1b67b",
   "metadata": {},
   "outputs": [
    {
     "name": "stdout",
     "output_type": "stream",
     "text": [
      "Category      A   B\n",
      "SubCategory   X   Y\n",
      "Date               \n",
      "2023-01-01   60  20\n",
      "2023-01-02   30  40\n"
     ]
    }
   ],
   "source": [
    "# 여러 열 기준으로 피벗 테이블 생성\n",
    "# 샘플 데이터프레임 생성\n",
    "data = {\n",
    "    'Date': ['2023-01-01', '2023-01-01', '2023-01-02', '2023-01-02', '2023-01-01'],\n",
    "    'Category': ['A', 'B', 'A', 'B', 'A'],\n",
    "    'SubCategory': ['X', 'Y', 'X', 'Y', 'X'],\n",
    "    'Value': [10, 20, 30, 40, 50]\n",
    "}\n",
    "df = pd.DataFrame(data)\n",
    "\n",
    "# 피벗 테이블 생성: 'Date'를 행 인덱스로, 'Category'와 'SubCategory'를 열 인덱스로, 값은 'Value'의 합으로 집계\n",
    "pivot = df.pivot_table(index='Date', columns=['Category', 'SubCategory'], values='Value', aggfunc='sum')\n",
    "\n",
    "print(pivot)"
   ]
  },
  {
   "cell_type": "code",
   "execution_count": null,
   "id": "e3821ff2-44b6-49de-bcad-a3504775205a",
   "metadata": {},
   "outputs": [
    {
     "name": "stdout",
     "output_type": "stream",
     "text": [
      "           Value1     Value2     \n",
      "Category        A   B      A    B\n",
      "Date                             \n",
      "2023-01-01     30  20    600  200\n",
      "2023-01-02     30  40    300  400\n"
     ]
    }
   ],
   "source": [
    "# 여러 열과 여러 값을 집계해 피벗 테이블 생성할 때\n",
    "# 샘플 데이터프레임 생성\n",
    "data = {\n",
    "    'Date': ['2023-01-01', '2023-01-01', '2023-01-02', '2023-01-02', '2023-01-01'],\n",
    "    'Category': ['A', 'B', 'A', 'B', 'A'],\n",
    "    'Value1': [10, 20, 30, 40, 50],\n",
    "    'Value2': [100, 200, 300, 400, 500]\n",
    "}\n",
    "df = pd.DataFrame(data)\n",
    "\n",
    "# 피벗 테이블 생성: 'Date'를 행 인덱스로, 'Category'를 열 인덱스로, 값은 'Value1'과 'Value2'의 평균과 합으로 집계\n",
    "pivot = df.pivot_table(index='Date', columns='Category', values=['Value1', 'Value2'], aggfunc={'Value1': 'mean', 'Value2': 'sum'})\n",
    "\n",
    "print(pivot)"
   ]
  },
  {
   "cell_type": "code",
   "execution_count": null,
   "id": "6b0f2b51-def5-42e2-b326-4a52a902d103",
   "metadata": {},
   "outputs": [],
   "source": [
    "# 참고 : pickle -적은 용량으로 저장할 때 사용\n",
    "df.to_pickle('data명.pkl')"
   ]
  },
  {
   "cell_type": "code",
   "execution_count": null,
   "id": "689165d2-d187-4eb3-9b87-5daad834330c",
   "metadata": {},
   "outputs": [],
   "source": []
  },
  {
   "cell_type": "code",
   "execution_count": null,
   "id": "2a2e0561-7160-4518-98e2-7e98ec4ba3cf",
   "metadata": {},
   "outputs": [],
   "source": []
  },
  {
   "cell_type": "code",
   "execution_count": null,
   "id": "72ff38e4-57b5-4b94-9818-6e94cbfb28ac",
   "metadata": {},
   "outputs": [],
   "source": []
  }
 ],
 "metadata": {
  "kernelspec": {
   "display_name": "Python 3 (ipykernel)",
   "language": "python",
   "name": "python3"
  },
  "language_info": {
   "codemirror_mode": {
    "name": "ipython",
    "version": 3
   },
   "file_extension": ".py",
   "mimetype": "text/x-python",
   "name": "python",
   "nbconvert_exporter": "python",
   "pygments_lexer": "ipython3",
   "version": "3.9.13"
  },
  "toc-autonumbering": false,
  "toc-showcode": false,
  "toc-showmarkdowntxt": false
 },
 "nbformat": 4,
 "nbformat_minor": 5
}
