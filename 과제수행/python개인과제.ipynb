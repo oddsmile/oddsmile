{
 "cells": [
  {
   "cell_type": "markdown",
   "id": "d03d09bb-7773-4870-843e-be4de94b7761",
   "metadata": {
    "tags": []
   },
   "source": [
    "## (문제 1) 제품 재고 관리\n",
    "### 배경:\n",
    "\n",
    "당신은 소매점에서 근무하며 제품의 재고 관리를 담당하고 있습니다.     \n",
    "제품의 재고는 매주 갱신되며, 재고가 부족하거나 과잉인 제품을 식별하는 것이 중요합니다.\n",
    "\n",
    "### 목표:\n",
    "\n",
    "주어진 제품의 재고 데이터를 분석하여,    \n",
    "재고가 기준치 이하인 제품과 기준치 이상인 제품을 식별하는 프로그램을 작성하세요.\n",
    "\n",
    "### 데이터:\n",
    "\n",
    "- 재고 데이터는 이중 리스트로 제공되며 첫 번째 전달인자로 받습니다\n",
    "    - 이중 리스트의 각 요소는 [제품명, 현재 재고량] 형식의 리스트입니다.\n",
    "    - 예: **`[['Apple', 30], ['Banana', 20], ['Orange', 50]]`**\n",
    "- 재고 기준치는 함수에서 두 번째 인자(하나의 기준치)로 받습니다. 기준치 이하면 재고가 부족한 것으로, 기준치 이상이면 재고가 과잉인 것으로 간주합니다.\n",
    "### 요구사항:\n",
    "\n",
    "1. 각 제품의 재고량이 주어진 기준치보다 많은지 적은지를 판단합니다.(동일 고려 x)\n",
    "    1. ex) 기준치를 25로 설정한다면 apple, orange는 과잉, banana는 부족입니다.\n",
    "2. 재고가 부족한 제품과 과잉인 제품의 목록을 출력합니다.\n",
    "3. 위 내용을 구현한 함수명을 `check_inventory` 로 작성하세요"
   ]
  },
  {
   "cell_type": "code",
   "execution_count": 27,
   "id": "d9000b88-dbdf-4d6d-889c-05d7b7da6d9f",
   "metadata": {},
   "outputs": [],
   "source": [
    "# 재고 데이터 예시\n",
    "inventory_data = [\n",
    "    ['Apple', 30],\n",
    "    ['Banana', 20],\n",
    "    ['Orange', 50]\n",
    "]\n",
    "   \n",
    "#코드 예시 \n",
    "#기준치 20으로 판별하기\n",
    "#check_inventory(inventory_data, 20)"
   ]
  },
  {
   "cell_type": "code",
   "execution_count": 28,
   "id": "16012edd-7d17-4dbc-b66b-d502bfb26454",
   "metadata": {
    "tags": []
   },
   "outputs": [],
   "source": [
    "def check_inventory(inventory_data, n) :\n",
    "    m = len(inventory_data)\n",
    "    for i in range(m) :\n",
    "        if inventory_data[i][1] > n :\n",
    "            print('과잉')\n",
    "        else :\n",
    "            print('부족')\n",
    "    return ;       "
   ]
  },
  {
   "cell_type": "code",
   "execution_count": 29,
   "id": "a94483b5-43ce-46fc-8312-35ad741d7e3d",
   "metadata": {},
   "outputs": [
    {
     "name": "stdout",
     "output_type": "stream",
     "text": [
      "과잉\n",
      "부족\n",
      "과잉\n"
     ]
    }
   ],
   "source": [
    "check_inventory(inventory_data, 25)"
   ]
  },
  {
   "cell_type": "markdown",
   "id": "f9144d4c-09cc-46df-8782-027ebe3ed93d",
   "metadata": {},
   "source": [
    "## (문제 2) **이메일 주소 유효성 검사**\n",
    "\n",
    "### 배경:\n",
    "\n",
    "당신은 회사의 고객 데이터베이스를 관리하고 있습니다.     \n",
    "데이터베이스에 저장된 고객의 이메일 주소가 유효한 형식을 갖추고 있는지 검증하는 작업이 필요합니다.\n",
    "\n",
    "### 목표:\n",
    "\n",
    "문자열 형태의 이메일 주소 목록을 분석하여,     \n",
    "각 이메일 주소가 올바른 형식을 갖추고 있는지 판단하는 프로그램을 작성하세요.\n",
    "\n",
    "### 데이터:\n",
    "\n",
    "- 이메일 주소는 문자열 리스트로 제공됩니다.\n",
    "- 올바른 이메일 주소의 형식은 다음과 같습니다:\n",
    "    - 하나의 '@' 기호를 포함해야 합니다.\n",
    "    - '@' 기호 앞에는 하나 이상의 문자가 있어야 합니다.\n",
    "    - '@' 기호 뒤에는 도메인명이 와야 하며, 도메인명은 '.'을 포함한 하나 이상의 문자로 구성되어야 합니다.\n",
    "\n",
    "### 요구사항:\n",
    "\n",
    "1. 각 이메일 주소가 올바른 형식을 갖추고 있는지 검사합니다. (문자열 메소드 사용)\n",
    "2. 올바른 형식의 이메일 주소인 경우, \"유효한 이메일 주소입니다.\"를 출력합니다.\n",
    "3. 올바르지 않은 형식의 경우, \"유효하지 않은 이메일 주소입니다.\"를 출력합니다.\n",
    "4. 위 내용을 구현한 함수명을 `validate_emails` 로 작성하세요."
   ]
  },
  {
   "cell_type": "code",
   "execution_count": 30,
   "id": "fc855e0c-b079-4a0b-a152-48e335c5323c",
   "metadata": {},
   "outputs": [
    {
     "data": {
      "text/plain": [
       "['example@example.com',\n",
       " 'wrongemail@.com',\n",
       " 'anotherexample.com',\n",
       " 'correct@email.co.uk',\n",
       " '@naver.com',\n",
       " 'aaa@aaa.com']"
      ]
     },
     "execution_count": 30,
     "metadata": {},
     "output_type": "execute_result"
    }
   ],
   "source": [
    "email_list = [\n",
    "    \"example@example.com\",\n",
    "    \"wrongemail@.com\",\n",
    "    \"anotherexample.com\",\n",
    "    \"correct@email.co.uk\",\n",
    "    \"@naver.com\",\n",
    "    \"aaa@aaa.com\"\n",
    "]"
   ]
  },
  {
   "cell_type": "code",
   "execution_count": 31,
   "id": "42e405f7-cee0-4afd-9e74-2bd0e45b83c8",
   "metadata": {},
   "outputs": [],
   "source": [
    "def validate_emails(arr) :\n",
    "    for i in range(len(arr)):\n",
    "        if arr[i].find('@') == -1 :\n",
    "            print('유효하지 않은 이메일 주소입니다.')\n",
    "        else :\n",
    "            if arr[i].split('@')[0] == '':\n",
    "                print('유효하지 않은 이메일 주소입니다.')\n",
    "            else :\n",
    "                if arr[i].split('@')[1].find('.') == -1 :\n",
    "                    print('유효하지 않은 이메일 주소입니다.')\n",
    "                else : \n",
    "                    if arr[i].split('@')[1].split('.')[0] == '':\n",
    "                        print('유효하지 않은 이메일 주소입니다.')\n",
    "                    else :\n",
    "                        print('유효한 이메일 주소입니다.')\n",
    "    return ;"
   ]
  },
  {
   "cell_type": "code",
   "execution_count": 32,
   "id": "f5900f85-6ebf-478e-b060-40738e9fc2f6",
   "metadata": {},
   "outputs": [],
   "source": [
    "def validate_emails(arr) :\n",
    "    for i in range(len(arr)):\n",
    "        if arr[i].find('@') == -1 :\n",
    "            print('유효하지 않은 이메일 주소입니다.')\n",
    "        elif arr[i].split('@')[0] == '':\n",
    "            print('유효하지 않은 이메일 주소입니다.')\n",
    "        elif arr[i].split('@')[1].find('.') == -1 :\n",
    "            print('유효하지 않은 이메일 주소입니다.')\n",
    "        elif arr[i].split('@')[1].split('.')[0] == '':\n",
    "            print('유효하지 않은 이메일 주소입니다.')\n",
    "        else :\n",
    "            print('유효한 이메일 주소입니다.')\n",
    "    return ;"
   ]
  },
  {
   "cell_type": "code",
   "execution_count": 33,
   "id": "24b1bb8e-c9c1-4a83-9dfa-14a69626cad1",
   "metadata": {},
   "outputs": [
    {
     "name": "stdout",
     "output_type": "stream",
     "text": [
      "유효한 이메일 주소입니다.\n",
      "유효하지 않은 이메일 주소입니다.\n",
      "유효하지 않은 이메일 주소입니다.\n",
      "유효한 이메일 주소입니다.\n",
      "유효하지 않은 이메일 주소입니다.\n",
      "유효한 이메일 주소입니다.\n"
     ]
    }
   ],
   "source": [
    "validate_emails(email_list)"
   ]
  },
  {
   "cell_type": "code",
   "execution_count": 48,
   "id": "62412bfc-f39c-4fe6-97e1-200870e2e167",
   "metadata": {},
   "outputs": [
    {
     "data": {
      "text/plain": [
       "False"
      ]
     },
     "execution_count": 48,
     "metadata": {},
     "output_type": "execute_result"
    }
   ],
   "source": [
    "email_list[2].find('@') == False"
   ]
  },
  {
   "cell_type": "code",
   "execution_count": 49,
   "id": "5466efe2-3909-490f-8add-077a737a8f30",
   "metadata": {},
   "outputs": [
    {
     "data": {
      "text/plain": [
       "False"
      ]
     },
     "execution_count": 49,
     "metadata": {},
     "output_type": "execute_result"
    }
   ],
   "source": [
    "email_list[0].split('@')[0] == ''"
   ]
  },
  {
   "cell_type": "code",
   "execution_count": 51,
   "id": "5024e1ce-f7c8-4fb8-bf99-f9675e2ef071",
   "metadata": {},
   "outputs": [
    {
     "data": {
      "text/plain": [
       "False"
      ]
     },
     "execution_count": 51,
     "metadata": {},
     "output_type": "execute_result"
    }
   ],
   "source": [
    "email_list[0].split('@')[1].find('.') == -1"
   ]
  },
  {
   "cell_type": "code",
   "execution_count": 27,
   "id": "0b97a0b1-ce2f-404f-b7a5-155d32dda28a",
   "metadata": {
    "tags": []
   },
   "outputs": [
    {
     "data": {
      "text/plain": [
       "True"
      ]
     },
     "execution_count": 27,
     "metadata": {},
     "output_type": "execute_result"
    }
   ],
   "source": [
    "email_list[0].split('@')[1].split('.')[0] != ''"
   ]
  },
  {
   "cell_type": "markdown",
   "id": "350bd929-626e-4f2f-91da-448c10eec36d",
   "metadata": {},
   "source": [
    "## (문제 3) 마라톤 미 완주자 찾기\n",
    "\n",
    "### 배경:\n",
    "\n",
    "마라톤 대회에서 모든 선수가 경주를 완주하려 했지만, 한 명의 선수만이 완주하지 못했습니다. 주최측은 참가자 명단과 완주자 명단을 가지고 있으며, 누가 완주하지 못했는지 알아내야 합니다.\n",
    "\n",
    "### 목표:\n",
    "\n",
    "마라톤 참가자 명단과 완주자 명단이 주어졌을 때, 완주하지 못한 선수의 이름을 찾는 함수를 작성하세요.\n",
    "\n",
    "### 데이터:\n",
    "\n",
    "- **`participant`**: 마라톤 참가자의 이름이 담긴 리스트\n",
    "- **`completion`**: 마라톤을 완주한 선수의 이름이 담긴 리스트\n",
    "\n",
    "### 요구사항:\n",
    "\n",
    "1. 참가자 명단에서 완주자 명단에 없는 선수를 찾습니다.단 참가자명단에는 동명이인이 있을 수 있습니다.\n",
    "2. 완주하지 못한 선수의 이름을 반환합니다.\n",
    "3. 위 내용을 구현한 함수를 `find_non_completer` 로 작성하세요"
   ]
  },
  {
   "cell_type": "code",
   "execution_count": 5,
   "id": "9210544d-78ed-48f2-a7cc-9a8d3a12d2b8",
   "metadata": {},
   "outputs": [],
   "source": [
    "# 예시 데이터\n",
    "participant = [\"mike\", \"lisa\", \"tom\", \"lisa\"]\n",
    "completion = [\"tom\", \"mike\", \"lisa\"]"
   ]
  },
  {
   "cell_type": "code",
   "execution_count": 6,
   "id": "a243f403-7bb1-479a-a77a-7f1ccaa8d5c0",
   "metadata": {},
   "outputs": [],
   "source": [
    "def find_non_completer(arr1,arr2) :\n",
    "    for i in arr2 :\n",
    "    \tarr1.remove(i)\n",
    "    return arr1"
   ]
  },
  {
   "cell_type": "code",
   "execution_count": 69,
   "id": "9a4bbae9-cdec-4586-8fb9-8ea043d82eec",
   "metadata": {
    "tags": []
   },
   "outputs": [],
   "source": [
    "def find_non_completer(arr1,arr2) :\n",
    "    non_completer = []\n",
    "    for i in range(len(arr1)) : \n",
    "        if arr1[i] in arr2 :\n",
    "            arr2.remove(arr1[i])\n",
    "        else :\n",
    "            non_completer.append(arr1[i])\n",
    "    return non_completer"
   ]
  },
  {
   "cell_type": "code",
   "execution_count": 7,
   "id": "565b2f41-51d5-42d9-bbcc-f05134f03023",
   "metadata": {},
   "outputs": [
    {
     "data": {
      "text/plain": [
       "['lisa']"
      ]
     },
     "execution_count": 7,
     "metadata": {},
     "output_type": "execute_result"
    }
   ],
   "source": [
    "find_non_completer(participant,completion)"
   ]
  },
  {
   "cell_type": "code",
   "execution_count": 53,
   "id": "c7363d78-38a7-4a1e-ae1a-1df88a10d6ae",
   "metadata": {},
   "outputs": [],
   "source": [
    "arr1 = participant[:]\n",
    "arr2 = completion[:]\n"
   ]
  },
  {
   "cell_type": "code",
   "execution_count": 73,
   "id": "49ef6526-10a0-48b8-ac42-f0979e2fd791",
   "metadata": {},
   "outputs": [],
   "source": [
    "def find_non_completer(arr1,arr2) :\n",
    "    non_completer = []\n",
    "    for i in arr1 : \n",
    "        if i in arr2 :\n",
    "            arr2.remove(i)\n",
    "        else :\n",
    "            non_completer.append(i)\n",
    "    return non_completer"
   ]
  },
  {
   "cell_type": "code",
   "execution_count": 74,
   "id": "3f0ad7c7-0fa3-491b-b9f0-88894fb7cfd4",
   "metadata": {},
   "outputs": [
    {
     "data": {
      "text/plain": [
       "['lisa']"
      ]
     },
     "execution_count": 74,
     "metadata": {},
     "output_type": "execute_result"
    }
   ],
   "source": [
    "find_non_completer(participant,completion)"
   ]
  },
  {
   "cell_type": "code",
   "execution_count": 63,
   "id": "9ea91044-0086-4dfa-88dd-5eab811b386b",
   "metadata": {},
   "outputs": [
    {
     "data": {
      "text/plain": [
       "True"
      ]
     },
     "execution_count": 63,
     "metadata": {},
     "output_type": "execute_result"
    }
   ],
   "source": [
    "(arr1[0] in arr2) == True"
   ]
  },
  {
   "cell_type": "markdown",
   "id": "a11655a8-9027-4bda-9e53-281ddd3ff0b1",
   "metadata": {},
   "source": [
    "## (문제 4) 고객 데이터 관리 시스템\n",
    "\n",
    "### 배경:\n",
    "\n",
    "당신은 소매점의 데이터 분석가로, 고객 데이터를 관리하는 시스템을 구축하려고 합니다. 각 고객의 이름, 이메일, 포인트 점수를 관리하고, 포인트 점수를 추가하거나 감소 시킬 수 있는 기능이 필요합니다.\n",
    "\n",
    "### 목표:\n",
    "\n",
    "**`Customer`** 클래스를 작성하여, 각  고객의 이름, 이메일, 포인트 점수를 관리하고, 포인트 점수를 추가하거나 감소 시키는 메소드를 구현하세요.\n",
    "\n",
    "### 데이터:\n",
    "\n",
    "- **`Customer`** 클래스는 고객의**①** **고객의 이름**, **② 이메일**, **③ 포인트 점수**를 속성으로 가집니다.\n",
    "- 포인트 점수를 관리하는 메소드는 다음과 같습니다:\n",
    "    - `**join_customer**`: 고객의 이름, 이메일, 포인트를 설정합니다.\n",
    "    - **`add_points(amount)`**: 주어진 양만큼 포인트 점수를 추가합니다.\n",
    "    - **`reduce_points(amount)`**: 주어진 양만큼 포인트 점수를 감소시킵니다.\n",
    "\n",
    "### 요구사항:\n",
    "\n",
    "1. **`Customer`** 클래스를 정의합니다.\n",
    "2. `**join_customer` , `add_points`**, **`reduce_points`** 메소드를 구현합니다.\n",
    "3. 포인트 점수가 감소될 때, 포인트 점수가 음수가 되지 않도록 합니다."
   ]
  },
  {
   "cell_type": "code",
   "execution_count": 140,
   "id": "310a6cc8-c0ff-41bd-a5d5-235427a2be25",
   "metadata": {},
   "outputs": [
    {
     "ename": "NameError",
     "evalue": "name 'Customer' is not defined",
     "output_type": "error",
     "traceback": [
      "\u001b[1;31m---------------------------------------------------------------------------\u001b[0m",
      "\u001b[1;31mNameError\u001b[0m                                 Traceback (most recent call last)",
      "\u001b[1;32m~\\AppData\\Local\\Temp\\ipykernel_29852\\3220127942.py\u001b[0m in \u001b[0;36m<module>\u001b[1;34m\u001b[0m\n\u001b[0;32m      1\u001b[0m \u001b[1;31m#확인코드\u001b[0m\u001b[1;33m\u001b[0m\u001b[1;33m\u001b[0m\u001b[0m\n\u001b[1;32m----> 2\u001b[1;33m \u001b[0mcustomer1\u001b[0m \u001b[1;33m=\u001b[0m \u001b[0mCustomer\u001b[0m\u001b[1;33m(\u001b[0m\u001b[1;33m)\u001b[0m\u001b[1;33m\u001b[0m\u001b[1;33m\u001b[0m\u001b[0m\n\u001b[0m\u001b[0;32m      3\u001b[0m \u001b[0mcustomer1\u001b[0m\u001b[1;33m.\u001b[0m\u001b[0mjoin_customer\u001b[0m\u001b[1;33m(\u001b[0m\u001b[1;34m\"Alice\"\u001b[0m\u001b[1;33m,\u001b[0m \u001b[1;34m\"alice@example.com\"\u001b[0m\u001b[1;33m,\u001b[0m \u001b[1;36m100\u001b[0m\u001b[1;33m)\u001b[0m\u001b[1;33m\u001b[0m\u001b[1;33m\u001b[0m\u001b[0m\n\u001b[0;32m      4\u001b[0m \u001b[0mcustomer1\u001b[0m\u001b[1;33m.\u001b[0m\u001b[0madd_points\u001b[0m\u001b[1;33m(\u001b[0m\u001b[1;36m50\u001b[0m\u001b[1;33m)\u001b[0m\u001b[1;33m\u001b[0m\u001b[1;33m\u001b[0m\u001b[0m\n\u001b[0;32m      5\u001b[0m \u001b[0mcustomer1\u001b[0m\u001b[1;33m.\u001b[0m\u001b[0mreduce_points\u001b[0m\u001b[1;33m(\u001b[0m\u001b[1;36m20\u001b[0m\u001b[1;33m)\u001b[0m\u001b[1;33m\u001b[0m\u001b[1;33m\u001b[0m\u001b[0m\n",
      "\u001b[1;31mNameError\u001b[0m: name 'Customer' is not defined"
     ]
    }
   ],
   "source": [
    "#확인코드\n",
    "customer1 = Customer()\n",
    "customer1.join_customer(\"Alice\", \"alice@example.com\", 100)\n",
    "customer1.add_points(50)\n",
    "customer1.reduce_points(20)\n",
    "customer1.reduce_points(150)  # 포인트 부족 상황 테스트"
   ]
  },
  {
   "cell_type": "code",
   "execution_count": 98,
   "id": "c30c57b6-52fe-435b-92ba-723b477b7d49",
   "metadata": {},
   "outputs": [],
   "source": [
    "class Customer :\n",
    "    def join_customer(self, name, email,point):\n",
    "        self.name = name\n",
    "        self.email = email\n",
    "        self.point = point\n",
    "        return\n",
    "    \n",
    "    def add_points(self, n):\n",
    "        self.point += n\n",
    "        return self.point\n",
    "        \n",
    "    def reduce_points(self, n):\n",
    "        if self.point - n >= 0 :\n",
    "            self.point -= n\n",
    "            return self.point\n",
    "        else :\n",
    "            return print(f\"현재 포인트는 {self.point}로 포인트 부족\")"
   ]
  },
  {
   "cell_type": "code",
   "execution_count": 99,
   "id": "c4099c82-f9ab-4c2e-b7be-8cdf09ef75cd",
   "metadata": {},
   "outputs": [],
   "source": [
    "customer1 = Customer()"
   ]
  },
  {
   "cell_type": "code",
   "execution_count": 100,
   "id": "8b3dc390-5355-4dd7-b2f0-8c8a46cc1849",
   "metadata": {},
   "outputs": [],
   "source": [
    "customer1.join_customer(\"Alice\", \"alice@example.com\", 100)"
   ]
  },
  {
   "cell_type": "code",
   "execution_count": 101,
   "id": "6c7fc1c5-7fa5-4a42-9966-fb09ce7b1cf8",
   "metadata": {},
   "outputs": [
    {
     "data": {
      "text/plain": [
       "'Alice'"
      ]
     },
     "execution_count": 101,
     "metadata": {},
     "output_type": "execute_result"
    }
   ],
   "source": [
    "customer1.name"
   ]
  },
  {
   "cell_type": "code",
   "execution_count": 102,
   "id": "94e9522e-f8e1-4a5d-ab40-abe2856f31a7",
   "metadata": {},
   "outputs": [
    {
     "data": {
      "text/plain": [
       "150"
      ]
     },
     "execution_count": 102,
     "metadata": {},
     "output_type": "execute_result"
    }
   ],
   "source": [
    "customer1.add_points(50)"
   ]
  },
  {
   "cell_type": "code",
   "execution_count": 105,
   "id": "5099694f-7afc-45c4-ada7-e6914afe0d2b",
   "metadata": {},
   "outputs": [
    {
     "data": {
      "text/plain": [
       "0"
      ]
     },
     "execution_count": 105,
     "metadata": {},
     "output_type": "execute_result"
    }
   ],
   "source": [
    "customer1.reduce_points(20)"
   ]
  },
  {
   "cell_type": "code",
   "execution_count": 96,
   "id": "a5074b61-3657-45fe-a918-ae6e1fb47159",
   "metadata": {},
   "outputs": [
    {
     "name": "stdout",
     "output_type": "stream",
     "text": [
      "현재 포인트는 130로 포인트 부족\n"
     ]
    }
   ],
   "source": [
    "customer1.reduce_points(150)"
   ]
  },
  {
   "cell_type": "code",
   "execution_count": null,
   "id": "16dc2b9b-0986-4ae1-ad20-75c23aea2783",
   "metadata": {},
   "outputs": [],
   "source": []
  }
 ],
 "metadata": {
  "kernelspec": {
   "display_name": "Python 3 (ipykernel)",
   "language": "python",
   "name": "python3"
  },
  "language_info": {
   "codemirror_mode": {
    "name": "ipython",
    "version": 3
   },
   "file_extension": ".py",
   "mimetype": "text/x-python",
   "name": "python",
   "nbconvert_exporter": "python",
   "pygments_lexer": "ipython3",
   "version": "3.9.13"
  }
 },
 "nbformat": 4,
 "nbformat_minor": 5
}
