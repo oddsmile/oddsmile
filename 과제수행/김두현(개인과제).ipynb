{
 "cells": [
  {
   "cell_type": "code",
   "execution_count": 2,
   "id": "27f568dc-4bab-49fb-be1d-a442a25f9d0e",
   "metadata": {},
   "outputs": [],
   "source": [
    "import time\n",
    "\n",
    "import pandas as pd\n",
    "import numpy as np\n",
    "import matplotlib.pyplot as plt\n",
    "plt.rcParams['font.family'] ='Malgun Gothic'\n",
    "import statsmodels.api as sm\n",
    "import scipy.stats as stats\n",
    "from statsmodels.stats.stattools import durbin_watson"
   ]
  },
  {
   "cell_type": "markdown",
   "id": "d0146455-851a-474a-b0e1-47997e0969a9",
   "metadata": {},
   "source": [
    "### 과제 목표\n",
    "- 주어진 데이터는 1년 동안 Github public repository(개발자들의 코드 저장소)의 푸시 횟수입니다\n",
    "  - Github의 공개 저장소에 대한 기록은 모두에게 공개되어 있으며, Bigquery에 데이터베이스 형태로도 저장되어 있습니다\n",
    "- 아래 데이터는 2019년 2월 1일 ~ 2020년 1월 14일, 약 1년간 각 일자별 Push(코드 업데이트) 횟수입니다\n",
    "  - 각 개인 별 데이터는 취합되었기 때문에 확인이 어려우며, 전 세계의 데이터이기 때문에 하루에도 수십만회 Push가 이루어집니다\n",
    "- 본 과제의 목표는 **요일 별 Push 횟수에 유의미한 차이가 있는지 확인**하는 것입니다\n",
    "  - 이를 위한 **데이터의 기본적인 전처리**가 과제이며, 실제 통계 분석은 예시로 제공됩니다"
   ]
  },
  {
   "cell_type": "code",
   "execution_count": 3,
   "id": "7c6760e6-3598-4294-a754-47ddd0542000",
   "metadata": {},
   "outputs": [
    {
     "data": {
      "text/html": [
       "<div>\n",
       "<style scoped>\n",
       "    .dataframe tbody tr th:only-of-type {\n",
       "        vertical-align: middle;\n",
       "    }\n",
       "\n",
       "    .dataframe tbody tr th {\n",
       "        vertical-align: top;\n",
       "    }\n",
       "\n",
       "    .dataframe thead th {\n",
       "        text-align: right;\n",
       "    }\n",
       "</style>\n",
       "<table border=\"1\" class=\"dataframe\">\n",
       "  <thead>\n",
       "    <tr style=\"text-align: right;\">\n",
       "      <th></th>\n",
       "      <th>log_date</th>\n",
       "      <th>push_count</th>\n",
       "    </tr>\n",
       "  </thead>\n",
       "  <tbody>\n",
       "    <tr>\n",
       "      <th>0</th>\n",
       "      <td>19-02-01</td>\n",
       "      <td>736729</td>\n",
       "    </tr>\n",
       "    <tr>\n",
       "      <th>1</th>\n",
       "      <td>19-02-02</td>\n",
       "      <td>511067</td>\n",
       "    </tr>\n",
       "    <tr>\n",
       "      <th>2</th>\n",
       "      <td>19-02-03</td>\n",
       "      <td>528724</td>\n",
       "    </tr>\n",
       "    <tr>\n",
       "      <th>3</th>\n",
       "      <td>19-02-04</td>\n",
       "      <td>709256</td>\n",
       "    </tr>\n",
       "    <tr>\n",
       "      <th>4</th>\n",
       "      <td>19-02-05</td>\n",
       "      <td>740087</td>\n",
       "    </tr>\n",
       "  </tbody>\n",
       "</table>\n",
       "</div>"
      ],
      "text/plain": [
       "   log_date  push_count\n",
       "0  19-02-01      736729\n",
       "1  19-02-02      511067\n",
       "2  19-02-03      528724\n",
       "3  19-02-04      709256\n",
       "4  19-02-05      740087"
      ]
     },
     "metadata": {},
     "output_type": "display_data"
    },
    {
     "name": "stdout",
     "output_type": "stream",
     "text": [
      "<class 'pandas.core.frame.DataFrame'>\n",
      "RangeIndex: 348 entries, 0 to 347\n",
      "Data columns (total 2 columns):\n",
      " #   Column      Non-Null Count  Dtype \n",
      "---  ------      --------------  ----- \n",
      " 0   log_date    348 non-null    object\n",
      " 1   push_count  348 non-null    int64 \n",
      "dtypes: int64(1), object(1)\n",
      "memory usage: 5.6+ KB\n"
     ]
    },
    {
     "data": {
      "text/plain": [
       "None"
      ]
     },
     "metadata": {},
     "output_type": "display_data"
    }
   ],
   "source": [
    "## 데이터 입력\n",
    "log_date = ['19-02-01', '19-02-02', '19-02-03', '19-02-04', '19-02-05', '19-02-06', '19-02-07', '19-02-08', '19-02-09', '19-02-10', '19-02-11', '19-02-12', '19-02-13', '19-02-14', '19-02-15', '19-02-16', '19-02-17', '19-02-18', '19-02-19', '19-02-20', '19-02-21', '19-02-22', '19-02-23', '19-02-24', '19-02-25', '19-02-26', '19-02-27', '19-02-28', '19-03-01', '19-03-02', '19-03-03', '19-03-04', '19-03-05', '19-03-06', '19-03-07', '19-03-08', '19-03-09', '19-03-10', '19-03-11', '19-03-12', '19-03-13', '19-03-14', '19-03-15', '19-03-16', '19-03-17', '19-03-18', '19-03-19', '19-03-20', '19-03-21', '19-03-22', '19-03-23', '19-03-24', '19-03-25', '19-03-26', '19-03-27', '19-03-28', '19-03-29', '19-03-30', '19-03-31', '19-04-01', '19-04-02', '19-04-03', '19-04-04', '19-04-05', '19-04-06', '19-04-07', '19-04-08', '19-04-09', '19-04-10', '19-04-11', '19-04-12', '19-04-13', '19-04-14', '19-04-15', '19-04-16', '19-04-17', '19-04-18', '19-04-19', '19-04-20', '19-04-21', '19-04-22', '19-04-23', '19-04-24', '19-04-25', '19-04-26', '19-04-27', '19-04-28', '19-04-29', '19-04-30', '19-05-01', '19-05-02', '19-05-03', '19-05-04', '19-05-05', '19-05-06', '19-05-07', '19-05-08', '19-05-09', '19-05-10', '19-05-11', '19-05-12', '19-05-13', '19-05-14', '19-05-15', '19-05-16', '19-05-17', '19-05-18', '19-05-19', '19-05-20', '19-05-21', '19-05-22', '19-05-23', '19-05-24', '19-05-25', '19-05-26', '19-05-27', '19-05-28', '19-05-29', '19-05-30', '19-05-31', '19-06-01', '19-06-02', '19-06-03', '19-06-04', '19-06-05', '19-06-06', '19-06-07', '19-06-08', '19-06-09', '19-06-10', '19-06-11', '19-06-12', '19-06-13', '19-06-14', '19-06-15', '19-06-16', '19-06-17', '19-06-18', '19-06-19', '19-06-20', '19-06-21', '19-06-22', '19-06-23', '19-06-24', '19-06-25', '19-06-26', '19-06-27', '19-06-28', '19-06-29', '19-06-30', '19-07-01', '19-07-02', '19-07-03', '19-07-04', '19-07-05', '19-07-06', '19-07-07', '19-07-08', '19-07-09', '19-07-10', '19-07-11', '19-07-12', '19-07-13', '19-07-14', '19-07-15', '19-07-16', '19-07-17', '19-07-18', '19-07-19', '19-07-20', '19-07-21', '19-07-22', '19-07-23', '19-07-24', '19-07-25', '19-07-26', '19-07-27', '19-07-28', '19-07-29', '19-07-30', '19-07-31', '19-08-01', '19-08-02', '19-08-03', '19-08-04', '19-08-05', '19-08-06', '19-08-07', '19-08-08', '19-08-09', '19-08-10', '19-08-11', '19-08-12', '19-08-13', '19-08-14', '19-08-15', '19-08-16', '19-08-17', '19-08-18', '19-08-19', '19-08-20', '19-08-21', '19-08-22', '19-08-23', '19-08-24', '19-08-25', '19-08-26', '19-08-27', '19-08-28', '19-08-29', '19-08-30', '19-08-31', '19-09-01', '19-09-02', '19-09-03', '19-09-04', '19-09-05', '19-09-06', '19-09-07', '19-09-08', '19-09-09', '19-09-10', '19-09-11', '19-09-12', '19-09-13', '19-09-14', '19-09-15', '19-09-16', '19-09-17', '19-09-18', '19-09-19', '19-09-20', '19-09-21', '19-09-22', '19-09-23', '19-09-24', '19-09-25', '19-09-26', '19-09-27', '19-09-28', '19-09-29', '19-09-30', '19-10-01', '19-10-02', '19-10-03', '19-10-04', '19-10-05', '19-10-06', '19-10-07', '19-10-08', '19-10-09', '19-10-10', '19-10-11', '19-10-12', '19-10-13', '19-10-14', '19-10-15', '19-10-16', '19-10-17', '19-10-18', '19-10-19', '19-10-20', '19-10-21', '19-10-22', '19-10-23', '19-10-24', '19-10-25', '19-10-26', '19-10-27', '19-10-28', '19-10-29', '19-10-30', '19-10-31', '19-11-01', '19-11-02', '19-11-03', '19-11-04', '19-11-05', '19-11-06', '19-11-07', '19-11-08', '19-11-09', '19-11-10', '19-11-11', '19-11-12', '19-11-13', '19-11-14', '19-11-15', '19-11-16', '19-11-17', '19-11-18', '19-11-19', '19-11-20', '19-11-21', '19-11-22', '19-11-23', '19-11-24', '19-11-25', '19-11-26', '19-11-27', '19-11-28', '19-11-29', '19-11-30', '19-12-01', '19-12-02', '19-12-03', '19-12-04', '19-12-05', '19-12-06', '19-12-07', '19-12-08', '19-12-09', '19-12-10', '19-12-11', '19-12-12', '19-12-13', '19-12-14', '19-12-15', '19-12-16', '19-12-17', '19-12-18', '19-12-19', '19-12-20', '19-12-21', '19-12-22', '19-12-23', '19-12-24', '19-12-25', '19-12-26', '19-12-27', '19-12-28', '19-12-29', '19-12-30', '19-12-31', '20-01-01', '20-01-02', '20-01-03', '20-01-04', '20-01-05', '20-01-06', '20-01-07', '20-01-08', '20-01-09', '20-01-10', '20-01-11', '20-01-12', '20-01-13', '20-01-14']\n",
    "push_count = [736729, 511067, 528724, 709256, 740087, 828340, 855820, 876558, 711352, 726738, 933373, 959901, 964590, 910286, 848699, 628103, 660322, 895603, 953629, 949635, 955522, 917177, 659269, 701236, 975518, 1015931, 975017, 958305, 877648, 651934, 691516, 953642, 960052, 956920, 948127, 871289, 655612, 693005, 958071, 968218, 913213, 981776, 908980, 639149, 674015, 973138, 1015747, 1030862, 987880, 940083, 680284, 732752, 985210, 1015158, 988336, 960122, 923610, 657774, 698977, 942929, 1011466, 1024102, 1023094, 896419, 644560, 709638, 1019979, 944757, 1032029, 1016603, 944749, 691124, 719655, 960241, 1004906, 962822, 928066, 822771, 637555, 634379, 869363, 1007129, 997962, 987342, 920902, 655932, 720557, 950336, 986033, 846924, 932629, 869605, 655596, 731643, 945787, 973691, 845210, 956187, 919024, 646186, 666480, 944651, 998339, 989321, 979288, 904402, 635748, 670781, 937562, 986783, 969340, 960897, 879943, 615473, 635104, 863598, 970739, 924637, 942743, 908637, 641700, 664349, 941040, 980994, 969237, 968088, 855144, 607374, 643368, 921310, 987912, 985706, 981966, 876784, 598649, 624435, 918547, 947202, 938357, 912571, 861004, 601985, 644669, 914440, 956819, 945094, 928392, 837200, 579043, 592809, 881688, 920703, 910181, 819783, 788902, 598114, 613398, 915404, 960277, 938893, 964279, 890375, 603932, 630452, 925569, 959798, 958867, 940762, 899965, 615995, 638225, 922097, 969853, 933142, 898382, 852293, 600428, 663577, 969388, 1017800, 1009288, 987829, 915535, 643060, 659166, 954540, 982357, 978924, 955222, 893207, 640980, 643640, 918449, 958142, 971452, 881092, 885573, 651344, 716221, 980444, 986368, 1008115, 975142, 899282, 638546, 657839, 929137, 1010382, 1046002, 1020406, 921973, 650116, 683948, 893356, 970513, 1002060, 977504, 922181, 661898, 691059, 975349, 1011351, 991193, 286155, 660287, 668692, 697019, 997987, 1035935, 1030658, 1008518, 929352, 679834, 722942, 1012245, 981957, 1049101, 1034349, 965986, 706483, 745323, 994475, 959377, 960125, 963577, 927708, 698380, 730718, 981909, 1014043, 1009630, 959940, 958999, 738410, 731280, 1007130, 1045559, 1000966, 1008689, 961439, 724469, 764181, 1035013, 1085947, 1074606, 1008383, 959324, 700488, 728405, 1013830, 1003101, 925538, 954690, 909302, 685143, 718614, 1009602, 1027008, 1089694, 1075847, 1002722, 722901, 734530, 1026837, 1103263, 1085672, 1065596, 993674, 716144, 761068, 1037372, 1086351, 1067002, 1073715, 986711, 705113, 736264, 1072204, 1104737, 1055793, 954867, 859767, 691890, 765436, 1087212, 1135921, 1121567, 1109582, 1022900, 730604, 766976, 1084186, 1112616, 1101107, 1061678, 961088, 720602, 746224, 1029784, 1058494, 1029029, 999443, 913832, 640958, 648001, 823771, 720936, 597513, 717881, 731723, 620329, 627507, 792344, 693257, 570350, 854673, 879764, 703290, 727426, 945107, 1003707, 1028428, 1045746, 1000151, 729593, 748161, 1034195, 1067085]\n",
    "\n",
    "df = pd.DataFrame({'log_date':log_date, 'push_count':push_count})\n",
    "display(df.head())\n",
    "display(df.info())"
   ]
  },
  {
   "cell_type": "markdown",
   "id": "63c1fe14-2246-4fe6-8f7f-bc2ebc173e54",
   "metadata": {},
   "source": [
    "**Question 1: 날짜 전처리**"
   ]
  },
  {
   "cell_type": "code",
   "execution_count": 6,
   "id": "c277e66c-7265-400e-8d43-9bb396e76718",
   "metadata": {},
   "outputs": [],
   "source": [
    "# 날짜type으로 변경 to_datetime\n",
    "df['log_date'] = pd.to_datetime(df['log_date'], format = '%y-%m-%d')"
   ]
  },
  {
   "cell_type": "code",
   "execution_count": 7,
   "id": "f219577e-e515-4a7c-bf6d-a16a07faf603",
   "metadata": {},
   "outputs": [],
   "source": [
    "# 요일 추출하기\n",
    "df['day_of_week'] = df['log_date'].dt.weekday"
   ]
  },
  {
   "cell_type": "code",
   "execution_count": 20,
   "id": "422af168-27f5-4f1c-bd3d-92753f373353",
   "metadata": {},
   "outputs": [],
   "source": [
    "# 요일 영어 이름 붙여보기\n",
    "#df['day_of_name'] = df['log_date'].dt.day_name()"
   ]
  },
  {
   "cell_type": "code",
   "execution_count": 21,
   "id": "ecf2d5ca-27e9-461d-b11c-ceeb1a43c43d",
   "metadata": {},
   "outputs": [],
   "source": [
    "# 요일 한글 이름 붙여보기\n",
    "# 0~6번 인덱스 위치에 각 한글 요일 이름이 담긴 리스트\n",
    "#weekday_list = ['월', '화', '수', '목', '금', '토', '일']\n",
    "# apply 함수로 숫자 -> 요일 이름으로 변환\n",
    "#df['요일'] = df.apply(lambda x : weekday_list[x['day_of_week']], axis = 1)"
   ]
  },
  {
   "cell_type": "code",
   "execution_count": 22,
   "id": "8c989d1c-2432-485d-a288-76f4f02155ad",
   "metadata": {},
   "outputs": [
    {
     "data": {
      "text/html": [
       "<div>\n",
       "<style scoped>\n",
       "    .dataframe tbody tr th:only-of-type {\n",
       "        vertical-align: middle;\n",
       "    }\n",
       "\n",
       "    .dataframe tbody tr th {\n",
       "        vertical-align: top;\n",
       "    }\n",
       "\n",
       "    .dataframe thead th {\n",
       "        text-align: right;\n",
       "    }\n",
       "</style>\n",
       "<table border=\"1\" class=\"dataframe\">\n",
       "  <thead>\n",
       "    <tr style=\"text-align: right;\">\n",
       "      <th></th>\n",
       "      <th>log_date</th>\n",
       "      <th>push_count</th>\n",
       "      <th>day_of_week</th>\n",
       "      <th>day_of_name</th>\n",
       "      <th>요일</th>\n",
       "    </tr>\n",
       "  </thead>\n",
       "  <tbody>\n",
       "    <tr>\n",
       "      <th>0</th>\n",
       "      <td>2019-02-01</td>\n",
       "      <td>736729</td>\n",
       "      <td>4</td>\n",
       "      <td>Friday</td>\n",
       "      <td>금</td>\n",
       "    </tr>\n",
       "    <tr>\n",
       "      <th>1</th>\n",
       "      <td>2019-02-02</td>\n",
       "      <td>511067</td>\n",
       "      <td>5</td>\n",
       "      <td>Saturday</td>\n",
       "      <td>토</td>\n",
       "    </tr>\n",
       "    <tr>\n",
       "      <th>2</th>\n",
       "      <td>2019-02-03</td>\n",
       "      <td>528724</td>\n",
       "      <td>6</td>\n",
       "      <td>Sunday</td>\n",
       "      <td>일</td>\n",
       "    </tr>\n",
       "    <tr>\n",
       "      <th>3</th>\n",
       "      <td>2019-02-04</td>\n",
       "      <td>709256</td>\n",
       "      <td>0</td>\n",
       "      <td>Monday</td>\n",
       "      <td>월</td>\n",
       "    </tr>\n",
       "    <tr>\n",
       "      <th>4</th>\n",
       "      <td>2019-02-05</td>\n",
       "      <td>740087</td>\n",
       "      <td>1</td>\n",
       "      <td>Tuesday</td>\n",
       "      <td>화</td>\n",
       "    </tr>\n",
       "  </tbody>\n",
       "</table>\n",
       "</div>"
      ],
      "text/plain": [
       "    log_date  push_count  day_of_week day_of_name 요일\n",
       "0 2019-02-01      736729            4      Friday  금\n",
       "1 2019-02-02      511067            5    Saturday  토\n",
       "2 2019-02-03      528724            6      Sunday  일\n",
       "3 2019-02-04      709256            0      Monday  월\n",
       "4 2019-02-05      740087            1     Tuesday  화"
      ]
     },
     "execution_count": 22,
     "metadata": {},
     "output_type": "execute_result"
    }
   ],
   "source": [
    "df.head()"
   ]
  },
  {
   "cell_type": "markdown",
   "id": "7352d4d2-0f2c-45bd-a628-dcb8441322b3",
   "metadata": {},
   "source": [
    "**Question 2: Groupby로 통계량 집계**"
   ]
  },
  {
   "cell_type": "code",
   "execution_count": 8,
   "id": "643ad743-fe32-47fc-9164-c0a18329c812",
   "metadata": {},
   "outputs": [
    {
     "data": {
      "text/html": [
       "<div>\n",
       "<style scoped>\n",
       "    .dataframe tbody tr th:only-of-type {\n",
       "        vertical-align: middle;\n",
       "    }\n",
       "\n",
       "    .dataframe tbody tr th {\n",
       "        vertical-align: top;\n",
       "    }\n",
       "\n",
       "    .dataframe thead th {\n",
       "        text-align: right;\n",
       "    }\n",
       "</style>\n",
       "<table border=\"1\" class=\"dataframe\">\n",
       "  <thead>\n",
       "    <tr style=\"text-align: right;\">\n",
       "      <th></th>\n",
       "      <th>mean</th>\n",
       "      <th>median</th>\n",
       "    </tr>\n",
       "    <tr>\n",
       "      <th>day_of_week</th>\n",
       "      <th></th>\n",
       "      <th></th>\n",
       "    </tr>\n",
       "  </thead>\n",
       "  <tbody>\n",
       "    <tr>\n",
       "      <th>0</th>\n",
       "      <td>955284.360000</td>\n",
       "      <td>954091.0</td>\n",
       "    </tr>\n",
       "    <tr>\n",
       "      <th>1</th>\n",
       "      <td>987446.620000</td>\n",
       "      <td>987347.5</td>\n",
       "    </tr>\n",
       "    <tr>\n",
       "      <th>2</th>\n",
       "      <td>971072.448980</td>\n",
       "      <td>985706.0</td>\n",
       "    </tr>\n",
       "    <tr>\n",
       "      <th>3</th>\n",
       "      <td>952641.510204</td>\n",
       "      <td>963577.0</td>\n",
       "    </tr>\n",
       "    <tr>\n",
       "      <th>4</th>\n",
       "      <td>897827.440000</td>\n",
       "      <td>906519.5</td>\n",
       "    </tr>\n",
       "    <tr>\n",
       "      <th>5</th>\n",
       "      <td>657864.100000</td>\n",
       "      <td>653765.0</td>\n",
       "    </tr>\n",
       "    <tr>\n",
       "      <th>6</th>\n",
       "      <td>689255.040000</td>\n",
       "      <td>695012.0</td>\n",
       "    </tr>\n",
       "  </tbody>\n",
       "</table>\n",
       "</div>"
      ],
      "text/plain": [
       "                      mean    median\n",
       "day_of_week                         \n",
       "0            955284.360000  954091.0\n",
       "1            987446.620000  987347.5\n",
       "2            971072.448980  985706.0\n",
       "3            952641.510204  963577.0\n",
       "4            897827.440000  906519.5\n",
       "5            657864.100000  653765.0\n",
       "6            689255.040000  695012.0"
      ]
     },
     "metadata": {},
     "output_type": "display_data"
    }
   ],
   "source": [
    "## 요일별 푸시 횟수의 평균과 중간값 추출\n",
    "push_count_by_dow = df.groupby('day_of_week')['push_count'].agg(['mean','median'])\n",
    "push_count_by_dow = push_count_by_dow.sort_index()\n",
    "\n",
    "display(push_count_by_dow)"
   ]
  },
  {
   "cell_type": "markdown",
   "id": "272e85c0-616d-4284-aa96-6f8bedb7de92",
   "metadata": {},
   "source": [
    "**Question 3: Bar chart 시각화**"
   ]
  },
  {
   "cell_type": "code",
   "execution_count": 19,
   "id": "0861cfa0-bfc3-4f9b-8ccc-c5f0a335ab5f",
   "metadata": {},
   "outputs": [
    {
     "data": {
      "text/plain": [
       "<AxesSubplot:xlabel='day_of_week'>"
      ]
     },
     "execution_count": 19,
     "metadata": {},
     "output_type": "execute_result"
    },
    {
     "data": {
      "image/png": "[encoded data removed]",
      "text/plain": [
       "<Figure size 640x480 with 1 Axes>"
      ]
     },
     "metadata": {},
     "output_type": "display_data"
    }
   ],
   "source": []
  },
  {
   "cell_type": "code",
   "execution_count": 54,
   "id": "53785b11-e6d8-4932-ab40-e11ed26267ae",
   "metadata": {},
   "outputs": [
    {
     "data": {
      "image/png": "[encoded data removed]",
      "text/plain": [
       "<Figure size 600x500 with 1 Axes>"
      ]
     },
     "metadata": {},
     "output_type": "display_data"
    }
   ],
   "source": [
    "## 요일별 평균을 bar chart로 시각화\n",
    "# push_count_by_dow['mean'].plot.bar()\n",
    "plt.figure(figsize = (6,5))\n",
    "plt.bar(push_count_by_dow.index, push_count_by_dow['mean'], width = 0.5, alpha = 0.5)\n",
    "plt.title('mean_day_of_push_count',loc='center', pad=10, fontdict = {'fontsize': 10,'fontweight': 'bold'})\n",
    "plt.xlabel('day_of_Week')\n",
    "plt.ylabel('push_count')\n",
    "plt.xticks([0,1,2,3,4,5,6], labels = ['월','화','수','목','금','토','일'])\n",
    "plt.text(4.8, 690000, 'min', fontdict={'size': 10})\n",
    "plt.show()"
   ]
  },
  {
   "cell_type": "markdown",
   "id": "df55aba8-5250-453c-a3f6-264721ae3fbd",
   "metadata": {},
   "source": [
    "**Question4(Optional): 아웃라이어 제거**"
   ]
  },
  {
   "cell_type": "code",
   "execution_count": null,
   "id": "f15feecb-e9b4-4ff4-ae69-f2a04a33feb9",
   "metadata": {
    "tags": []
   },
   "outputs": [],
   "source": [
    "#m = df['push_count'].mean()\n",
    "#s = df['push_count'].std()"
   ]
  },
  {
   "cell_type": "code",
   "execution_count": null,
   "id": "e6a5952f-7625-4e83-807a-9101eafa666c",
   "metadata": {},
   "outputs": [],
   "source": [
    "#ser_outlier_bool = (df['push_count']-m).abs() > 3*s"
   ]
  },
  {
   "cell_type": "code",
   "execution_count": null,
   "id": "90d44884-3f12-4463-9c13-492a15a36cd8",
   "metadata": {},
   "outputs": [],
   "source": [
    "#ser_outlier_bool.sum()"
   ]
  },
  {
   "cell_type": "code",
   "execution_count": null,
   "id": "210eb46e-9c48-4a96-a649-fc49a1dd64d2",
   "metadata": {},
   "outputs": [],
   "source": [
    "#df[(df['push_count']-m).abs() < 3*s].reset_index(drop=True)"
   ]
  },
  {
   "cell_type": "code",
   "execution_count": 14,
   "id": "7c9b5c09-5f17-4d54-b614-985e319b9474",
   "metadata": {},
   "outputs": [],
   "source": [
    "## 함수 기반으로 z score 기반의 이상치 탐지\n",
    "def z_score_outlier_remover(df:pd.DataFrame, threshold:float) -> pd.DataFrame:\n",
    "    \"\"\"\n",
    "    z-score가 Threshold가 넘는 값들을 이상치로 판단하고 제거.\n",
    "    단, 이상치가 제거될 때마다 평균과 분산이 바뀌므로 이상치가 존재하지 않을 때까지 무한 반복\n",
    "    \"\"\"\n",
    "    total_outlier_count = 0\n",
    "    \n",
    "    if threshold <= 0:\n",
    "        raise ValueError(\"Threshold must larger than zero\")\n",
    "    \n",
    "    \n",
    "    while True:\n",
    "        ## 평균과 표준 편차를 집계\n",
    "        m = df['push_count'].mean()\n",
    "        s = df['push_count'].std()\n",
    "        \n",
    "        # z-scroe : 평군과 표준편차를 활용해 이상치 판별, 한계점 : threshold\n",
    "        ## num_list의 각 요소가 이상치인지를 나타내는 Boolean series 생성\n",
    "        ser_outlier_bool = (df['push_count']-m).abs() > threshold*s\n",
    "        \n",
    "        # true : 1 False : 0\n",
    "        ## 이상치의 숫자를 집계\n",
    "        outlier_count = ser_outlier_bool.sum()\n",
    "        \n",
    "        ## 이상치가 존재한다면 그 숫자를 세고, 제거\n",
    "        if outlier_count > 0:\n",
    "            total_outlier_count += outlier_count\n",
    "            df = df[(df['push_count']-m).abs() < threshold*s].reset_index(drop=True)\n",
    "        ## 이상치가 존재하지 않으면 \n",
    "        else:\n",
    "            ## 제거한 이상치가 1개 이상이라면 출력하고 종료\n",
    "            if total_outlier_count > 0:\n",
    "                print(f\"The number of outliers(z-score > {threshold}): {total_outlier_count}\")\n",
    "            break\n",
    "    return df"
   ]
  },
  {
   "cell_type": "code",
   "execution_count": 15,
   "id": "56f2a0cb-665a-45b5-8ad5-0158f50c5da7",
   "metadata": {},
   "outputs": [
    {
     "name": "stdout",
     "output_type": "stream",
     "text": [
      "Day of week: 0: Started\n",
      "The number of outliers(z-score > 3): 1\n",
      "Day of week: 0: End\n",
      "\n",
      "Day of week: 1: Started\n",
      "The number of outliers(z-score > 3): 3\n",
      "Day of week: 1: End\n",
      "\n",
      "Day of week: 2: Started\n",
      "The number of outliers(z-score > 3): 2\n",
      "Day of week: 2: End\n",
      "\n",
      "Day of week: 3: Started\n",
      "The number of outliers(z-score > 3): 2\n",
      "Day of week: 3: End\n",
      "\n",
      "Day of week: 4: Started\n",
      "The number of outliers(z-score > 3): 1\n",
      "Day of week: 4: End\n",
      "\n",
      "Day of week: 5: Started\n",
      "The number of outliers(z-score > 3): 1\n",
      "Day of week: 5: End\n",
      "\n",
      "Day of week: 6: Started\n",
      "The number of outliers(z-score > 3): 1\n",
      "Day of week: 6: End\n",
      "\n",
      "Outlier removed: 348 -> 337(3.16%)\n"
     ]
    }
   ],
   "source": [
    "## 요일 별로 이상치를 제거\n",
    "threshold = 3\n",
    "\n",
    "n_before = len(df)\n",
    "df_outlier_removed_list = []\n",
    "for day_of_week, group in df.groupby(\"day_of_week\"):\n",
    "    \n",
    "    print(f\"Day of week: {day_of_week}: Started\")\n",
    "    group_outlier_removed = z_score_outlier_remover(group, threshold)\n",
    "    df_outlier_removed_list.append(group_outlier_removed)\n",
    "    print(f\"Day of week: {day_of_week}: End\\n\")\n",
    "\n",
    "## 원본 데이터 대체\n",
    "df = pd.concat(df_outlier_removed_list)\n",
    "n_after = len(df)\n",
    "outlier_ratio = (n_before - n_after) / n_before * 100\n",
    "\n",
    "print(f\"Outlier removed: {n_before} -> {n_after}({outlier_ratio:.2f}%)\")"
   ]
  },
  {
   "cell_type": "markdown",
   "id": "5fb5c107-b43a-4e53-a6c1-15ccc63d713a",
   "metadata": {},
   "source": [
    "### ANOVA"
   ]
  },
  {
   "cell_type": "code",
   "execution_count": 26,
   "id": "19de615e-56a1-4d88-a4b2-7d7396ce42ce",
   "metadata": {},
   "outputs": [
    {
     "name": "stdout",
     "output_type": "stream",
     "text": [
      "F statistics: 334.2059\n",
      "P-value: 0.0000\n"
     ]
    }
   ],
   "source": [
    "F, p_value = stats.f_oneway(*[group.push_count for dow, group in df.groupby('day_of_week')])\n",
    "print(f\"F statistics: {F:.4f}\")\n",
    "print(f\"P-value: {p_value:.4f}\")"
   ]
  },
  {
   "cell_type": "markdown",
   "id": "bd61acfd-8c59-4375-8480-0bb8fc92242d",
   "metadata": {},
   "source": [
    "**Assumption test**"
   ]
  },
  {
   "cell_type": "code",
   "execution_count": 27,
   "id": "b19e6c34-ef37-4cb6-9c97-3b9b343b1fba",
   "metadata": {},
   "outputs": [
    {
     "data": {
      "image/png": "[encoded data removed]",
      "text/plain": [
       "<Figure size 640x480 with 1 Axes>"
      ]
     },
     "metadata": {},
     "output_type": "display_data"
    },
    {
     "data": {
      "image/png": "[encoded data removed]",
      "text/plain": [
       "<Figure size 640x480 with 1 Axes>"
      ]
     },
     "metadata": {},
     "output_type": "display_data"
    },
    {
     "name": "stdout",
     "output_type": "stream",
     "text": [
      "Normaility test p-value: 0.0049\n",
      "Equal variance test p-value: 0.0222\n",
      "Independence test statistic: 0.3971\n"
     ]
    }
   ],
   "source": [
    "df['residual'] = df['push_count'] - df.groupby('day_of_week').push_count.transform('mean')\n",
    "df['std_resi'] = (df['residual'] - df['residual'].mean()) / df['residual'].std()\n",
    "\n",
    "## 날짜 순으로 정렬\n",
    "df = df.sort_values(\"log_date\")\n",
    "## 이동평균 생성\n",
    "df = df.assign(push_count_ma = df.push_count.rolling(28).mean())\n",
    "\n",
    "# MA plot\n",
    "plt.plot(df.log_date, df.push_count_ma)\n",
    "plt.xticks(rotation=20)\n",
    "plt.show()\n",
    "\n",
    "# QQ plot\n",
    "sm.qqplot(df['std_resi'], line='45')\n",
    "plt.xlabel(\"Theoretical Quantiles\")\n",
    "plt.ylabel(\"Standardized Residuals\")\n",
    "plt.show()\n",
    "\n",
    "# normality\n",
    "w, pvalue = stats.shapiro(df.residual)\n",
    "print(f\"Normaility test p-value: {pvalue:.4f}\")\n",
    "\n",
    "# equal variance\n",
    "w, pvalue = stats.bartlett(*[group.residual for dow, group in df.groupby('day_of_week')])\n",
    "print(f\"Equal variance test p-value: {pvalue:.4f}\")\n",
    "\n",
    "# independency\n",
    "d = durbin_watson(df.residual)\n",
    "print(f\"Independence test statistic: {d:.4f}\")"
   ]
  }
 ],
 "metadata": {
  "kernelspec": {
   "display_name": "Python 3 (ipykernel)",
   "language": "python",
   "name": "python3"
  },
  "language_info": {
   "codemirror_mode": {
    "name": "ipython",
    "version": 3
   },
   "file_extension": ".py",
   "mimetype": "text/x-python",
   "name": "python",
   "nbconvert_exporter": "python",
   "pygments_lexer": "ipython3",
   "version": "3.9.13"
  }
 },
 "nbformat": 4,
 "nbformat_minor": 5
}
