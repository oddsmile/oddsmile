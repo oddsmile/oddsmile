{
 "cells": [
  {
   "cell_type": "markdown",
   "id": "0b9b50c7-5532-42fe-8ac9-1c99a767526d",
   "metadata": {
    "jp-MarkdownHeadingCollapsed": true,
    "tags": []
   },
   "source": [
    "### 1.변수 선언과 자료형"
   ]
  },
  {
   "cell_type": "code",
   "execution_count": 1,
   "id": "37761724-bf62-481c-80f8-a91c6f23b953",
   "metadata": {},
   "outputs": [
    {
     "name": "stdout",
     "output_type": "stream",
     "text": [
      "5\n",
      "6\n",
      "1.5\n",
      "9\n",
      "1\n"
     ]
    }
   ],
   "source": [
    "a = 3\n",
    "b = 2\n",
    "\n",
    "print(a+b)\n",
    "print(a*b)\n",
    "print(a/b) # 나누기\n",
    "print(a**b) # 거듭\n",
    "print(a%b) # 나머지 : 짝수 홀수 판단"
   ]
  },
  {
   "cell_type": "code",
   "execution_count": 2,
   "id": "a34828d0-4454-4c06-a4ca-38e25ef0de62",
   "metadata": {},
   "outputs": [
    {
     "name": "stdout",
     "output_type": "stream",
     "text": [
      "11.5 doo False\n"
     ]
    }
   ],
   "source": [
    "a = 11.5\n",
    "b = 'doo'\n",
    "c = (3 < 2)\n",
    "# 숫자, 문자, 참거짓 등 변수에 담을 수 있다.\n",
    "# 다른 관점으로, 값을 가리킬 변수를 지정\n",
    "print(a , b , c)"
   ]
  },
  {
   "cell_type": "markdown",
   "id": "363a39ae-ce85-4ead-a149-26925d210d37",
   "metadata": {
    "jp-MarkdownHeadingCollapsed": true,
    "tags": []
   },
   "source": [
    "### 2. 문자열 다루기"
   ]
  },
  {
   "cell_type": "code",
   "execution_count": 3,
   "id": "392abc84-0dca-4de4-a60b-8794663c41f2",
   "metadata": {},
   "outputs": [
    {
     "name": "stdout",
     "output_type": "stream",
     "text": [
      "doo hyunkim\n"
     ]
    }
   ],
   "source": [
    "# 문자열 다루기\n",
    "first_name = 'doo hyun'\n",
    "last_name = 'kim'\n",
    "\n",
    "print(first_name + last_name)"
   ]
  },
  {
   "cell_type": "code",
   "execution_count": 4,
   "id": "5c1d45a8-64f3-474e-bd51-2444a5bbc3a9",
   "metadata": {},
   "outputs": [
    {
     "name": "stdout",
     "output_type": "stream",
     "text": [
      "2hello\n"
     ]
    }
   ],
   "source": [
    "a = '2' # 2는 숫자가 아닌 문자 취급\n",
    "b = 'hello'\n",
    "#문자와 문자 연산은 가능 but 형식이 다른 숫자 문자 간 연산은 불가능하다\n",
    "print(a+b)"
   ]
  },
  {
   "cell_type": "code",
   "execution_count": 5,
   "id": "8f9d9f74-60da-4df6-8051-1b1ec015668e",
   "metadata": {},
   "outputs": [
    {
     "name": "stdout",
     "output_type": "stream",
     "text": [
      "11\n"
     ]
    }
   ],
   "source": [
    "text = 'abcdefghijk'\n",
    "result = len(text)\n",
    "print(result)"
   ]
  },
  {
   "cell_type": "code",
   "execution_count": 6,
   "id": "03438004-36a0-4ada-915d-310961c4019b",
   "metadata": {},
   "outputs": [
    {
     "name": "stdout",
     "output_type": "stream",
     "text": [
      "bcdef\n"
     ]
    }
   ],
   "source": [
    "#문자열 자르기\n",
    "result = text[:]\n",
    "result = text[3:]\n",
    "result = text[1:6]\n",
    "#파이선은 0부터 시작\n",
    "print(result)"
   ]
  },
  {
   "cell_type": "code",
   "execution_count": 7,
   "id": "68111486-b05e-4664-9b7d-7c5d200fb829",
   "metadata": {},
   "outputs": [
    {
     "name": "stdout",
     "output_type": "stream",
     "text": [
      "sparta\n"
     ]
    }
   ],
   "source": [
    "myemail = 'abc@sparta.co'\n",
    "result = myemail.split('@')[1].split('.')[0]\n",
    "\n",
    "print(result)"
   ]
  },
  {
   "cell_type": "code",
   "execution_count": 8,
   "id": "567dc8c1-e111-426d-91d8-48674f96c54a",
   "metadata": {},
   "outputs": [
    {
     "name": "stdout",
     "output_type": "stream",
     "text": [
      "spa\n",
      "02\n"
     ]
    }
   ],
   "source": [
    "#퀴드1\n",
    "text = 'sparta'\n",
    "\n",
    "result = text[0:3]\n",
    "print(result)\n",
    "\n",
    "#퀴즈2\n",
    "phone = '02-123-1234'\n",
    "\n",
    "result = phone.split('-')[0]\n",
    "print(result) "
   ]
  },
  {
   "cell_type": "markdown",
   "id": "c0ba1526-739d-451d-be59-f364227e982e",
   "metadata": {
    "jp-MarkdownHeadingCollapsed": true,
    "tags": []
   },
   "source": [
    "### 3. 리스트와 딕셔너리"
   ]
  },
  {
   "cell_type": "code",
   "execution_count": 9,
   "id": "9eabd101-67d2-4e1d-b21d-68d77d430d81",
   "metadata": {},
   "outputs": [
    {
     "name": "stdout",
     "output_type": "stream",
     "text": [
      "['수박', '메론']\n"
     ]
    }
   ],
   "source": [
    "# 리스트(순서 중요)와 딕셔너리(key : value): 값을 담는 방법\n",
    "a_list = ['사과', '배', '감', 1, 2, 3, True, False, ['수박', '메론']]\n",
    "print(a_list[8])"
   ]
  },
  {
   "cell_type": "code",
   "execution_count": 10,
   "id": "92d7767c-9ae9-4c03-a464-6a5c445d6332",
   "metadata": {},
   "outputs": [
    {
     "name": "stdout",
     "output_type": "stream",
     "text": [
      "True\n"
     ]
    }
   ],
   "source": [
    "a_list = [1,2,4,5,7,3]\n",
    "a_list.append(99) # 추가하기\n",
    "\n",
    "result = a_list[-1] # 자르기\n",
    "result = len(a_list) # 길이\n",
    "a_list.sort(reverse = True) # 정렬\n",
    "result = (5 in a_list) # 리스트 안에 \n",
    "print(result)"
   ]
  },
  {
   "cell_type": "code",
   "execution_count": 11,
   "id": "566ab808-d1e5-466b-9150-8ae69bee5a50",
   "metadata": {},
   "outputs": [
    {
     "name": "stdout",
     "output_type": "stream",
     "text": [
      "True\n"
     ]
    }
   ],
   "source": [
    "a_dict = {'name' : 'bob', 'age' : 27, 'friend' : ['영희', '철수']}\n",
    "\n",
    "result = a_dict['name']\n",
    "result = a_dict['friend'][0] # \n",
    "a_dict['height'] = 180 # 추가\n",
    "\n",
    "result = ('height' in a_dict)\n",
    "print(result)"
   ]
  },
  {
   "cell_type": "code",
   "execution_count": 12,
   "id": "1f9fa706-d32f-46c4-8df6-dad5456e6624",
   "metadata": {},
   "outputs": [
    {
     "name": "stdout",
     "output_type": "stream",
     "text": [
      "30\n"
     ]
    }
   ],
   "source": [
    "# list와 dictionary 조합\n",
    "people = [\n",
    "    {'name' : 'bob', 'age' : 27},\n",
    "    {'name' : 'john', 'age' : 30 }\n",
    "]\n",
    "\n",
    "print(people[1]['age'])"
   ]
  },
  {
   "cell_type": "code",
   "execution_count": 13,
   "id": "f776d409-e1dd-49a2-9a74-9c5a3b55ef76",
   "metadata": {},
   "outputs": [
    {
     "name": "stdout",
     "output_type": "stream",
     "text": [
      "90\n"
     ]
    }
   ],
   "source": [
    "# 과제 smith의 science 점수\n",
    "people = [\n",
    "    {'name': 'bob', 'age': 20, 'score':{'math':90,'science':70}},\n",
    "    {'name': 'carry', 'age': 38, 'score':{'math':40,'science':72}},\n",
    "    {'name': 'smith', 'age': 28, 'score':{'math':80,'science':90}},\n",
    "    {'name': 'john', 'age': 34, 'score':{'math':75,'science':100}}\n",
    "]\n",
    "\n",
    "print(people[2]['score']['science'])"
   ]
  },
  {
   "cell_type": "markdown",
   "id": "2f0058d6-b0a3-4bab-aa21-b072ebfd1fa4",
   "metadata": {
    "jp-MarkdownHeadingCollapsed": true,
    "tags": []
   },
   "source": [
    "### 4.if"
   ]
  },
  {
   "cell_type": "code",
   "execution_count": 14,
   "id": "c9a34f79-12af-4b35-bc46-965833f92142",
   "metadata": {
    "tags": []
   },
   "outputs": [
    {
     "name": "stdout",
     "output_type": "stream",
     "text": [
      "택시를 타자!\n"
     ]
    }
   ],
   "source": [
    "money = 3600\n",
    "\n",
    "if money > 3500 :\n",
    "    print('택시를 타자!') #들여쓰기 중요\n",
    "elif money > 1200 :\n",
    "    print('버스를 타자!')\n",
    "else :\n",
    "    print('걸어가자')"
   ]
  },
  {
   "cell_type": "markdown",
   "id": "f3bce71b-7f2b-4c4a-9d72-22bea84c7c28",
   "metadata": {
    "jp-MarkdownHeadingCollapsed": true,
    "tags": []
   },
   "source": [
    "### 5.반복문"
   ]
  },
  {
   "cell_type": "code",
   "execution_count": 15,
   "id": "2812237d-c318-470f-a5c1-089dfc0728e2",
   "metadata": {
    "tags": []
   },
   "outputs": [
    {
     "name": "stdout",
     "output_type": "stream",
     "text": [
      "사과\n",
      "배\n",
      "감\n",
      "수박\n",
      "딸기\n"
     ]
    }
   ],
   "source": [
    "# ex. 0~9까지 출력할 때\n",
    "fruits = ['사과', '배', '감', '수박', '딸기']\n",
    "\n",
    "for fruit in fruits :\n",
    "    print(fruit)"
   ]
  },
  {
   "cell_type": "code",
   "execution_count": 16,
   "id": "b19454a8-2fe0-4b62-93b8-73c3c529da56",
   "metadata": {},
   "outputs": [
    {
     "name": "stdout",
     "output_type": "stream",
     "text": [
      "{'name': 'bob', 'age': 20}\n"
     ]
    }
   ],
   "source": [
    "people = [\n",
    "    {'name': 'bob', 'age': 20},\n",
    "    {'name': 'carry', 'age': 38},\n",
    "    {'name': 'john', 'age': 7},\n",
    "    {'name': 'smith', 'age': 17},\n",
    "    {'name': 'ben', 'age': 27},\n",
    "    {'name': 'bobby', 'age': 57},\n",
    "    {'name': 'red', 'age': 32},\n",
    "    {'name': 'queen', 'age': 25}\n",
    "]\n",
    "print(people[0])"
   ]
  },
  {
   "cell_type": "code",
   "execution_count": 17,
   "id": "980c5f18-f6ba-4aef-832d-8d457ff1cf5d",
   "metadata": {},
   "outputs": [
    {
     "name": "stdout",
     "output_type": "stream",
     "text": [
      "0 bob 20\n",
      "1 carry 38\n",
      "2 john 7\n",
      "3 smith 17\n",
      "4 ben 27\n"
     ]
    }
   ],
   "source": [
    "for i, person in enumerate(people) : #enumerate는 people의 인덱스와 원소값을 튜플형태로 출력\n",
    "    name = person['name']\n",
    "    age = person['age']\n",
    "    print(i, name, age)\n",
    "    if i > 3:\n",
    "        break"
   ]
  },
  {
   "cell_type": "code",
   "execution_count": 18,
   "id": "8b3c5c7a-60fe-45c4-a60b-2959b7345a18",
   "metadata": {
    "collapsed": true,
    "jupyter": {
     "outputs_hidden": true
    },
    "tags": []
   },
   "outputs": [
    {
     "name": "stdout",
     "output_type": "stream",
     "text": [
      "2\n",
      "6\n",
      "2\n",
      "4\n",
      "6\n",
      "2\n",
      "4\n"
     ]
    }
   ],
   "source": [
    "num_list = [1, 2, 3, 6, 3, 2, 4, 5, 6, 2, 4]\n",
    "\n",
    "for i in num_list :\n",
    "    if i%2 == 0 :\n",
    "        print(i)"
   ]
  },
  {
   "cell_type": "code",
   "execution_count": 19,
   "id": "f003baac-2ec9-40ee-bc95-67a0f2c673a9",
   "metadata": {},
   "outputs": [
    {
     "name": "stdout",
     "output_type": "stream",
     "text": [
      "7\n"
     ]
    }
   ],
   "source": [
    "n=0\n",
    "for i in num_list :\n",
    "    if i%2 == 0 :\n",
    "        n = n + 1 # or n += 1\n",
    "print(n)"
   ]
  },
  {
   "cell_type": "code",
   "execution_count": 20,
   "id": "53a038a4-96d8-47bd-8b48-570bd0c1efe6",
   "metadata": {},
   "outputs": [
    {
     "name": "stdout",
     "output_type": "stream",
     "text": [
      "6\n"
     ]
    }
   ],
   "source": [
    "max = 0\n",
    "for i in num_list :\n",
    "    if max < i :\n",
    "        max = i\n",
    "print(max)"
   ]
  },
  {
   "cell_type": "markdown",
   "id": "28e89989-c0f1-470a-a4cc-959e10f8bbc7",
   "metadata": {
    "tags": []
   },
   "source": [
    "### 6. 함수"
   ]
  },
  {
   "cell_type": "code",
   "execution_count": 21,
   "id": "4e3d876e-977e-41d8-9cce-624993ceccba",
   "metadata": {},
   "outputs": [
    {
     "name": "stdout",
     "output_type": "stream",
     "text": [
      "안녕!\n",
      "좋은 날씨야!\n"
     ]
    }
   ],
   "source": [
    "def hello():\n",
    "    print('안녕!')\n",
    "    print('좋은 날씨야!')\n",
    "    \n",
    "hello()"
   ]
  },
  {
   "cell_type": "code",
   "execution_count": 22,
   "id": "87c18453-18dd-4e81-bbde-e0622abc26f3",
   "metadata": {},
   "outputs": [
    {
     "name": "stdout",
     "output_type": "stream",
     "text": [
      "더하기를 하셨네요\n",
      "3\n"
     ]
    }
   ],
   "source": [
    "def sum(a,b) :\n",
    "    print('더하기를 하셨네요')\n",
    "    return a+b\n",
    "\n",
    "result = sum(1,2)\n",
    "print(result)"
   ]
  },
  {
   "cell_type": "code",
   "execution_count": 23,
   "id": "d106f08d-9152-4876-b35c-d5bb886d5213",
   "metadata": {
    "tags": []
   },
   "outputs": [
    {
     "name": "stdout",
     "output_type": "stream",
     "text": [
      "1200원\n"
     ]
    }
   ],
   "source": [
    "def bus_rate(age) :\n",
    "    if age > 65 :\n",
    "        print('무료')\n",
    "    elif age > 20 :\n",
    "        print('1200원')\n",
    "    else :\n",
    "        print('750')\n",
    "bus_rate(30)"
   ]
  },
  {
   "cell_type": "code",
   "execution_count": 24,
   "id": "3841c20e-e188-4945-8f70-ccec923a08e9",
   "metadata": {
    "tags": []
   },
   "outputs": [
    {
     "name": "stdout",
     "output_type": "stream",
     "text": [
      "남성\n"
     ]
    }
   ],
   "source": [
    "def check_gender(pin) :\n",
    "    num = pin.split('-')[1][:1]\n",
    "    if int(num) % 2 == 0 :\n",
    "        print('여성')\n",
    "    else :\n",
    "        print('남성')\n",
    "\n",
    "check_gender('150101-1012345')"
   ]
  },
  {
   "cell_type": "markdown",
   "id": "93275797-531d-4c46-98a3-1493b840b78c",
   "metadata": {
    "tags": []
   },
   "source": [
    "### 7. 튜플"
   ]
  },
  {
   "cell_type": "code",
   "execution_count": 25,
   "id": "98e91360-a377-4569-bc84-2751bd4385c0",
   "metadata": {},
   "outputs": [
    {
     "name": "stdout",
     "output_type": "stream",
     "text": [
      "('사과', '감', '배')\n"
     ]
    }
   ],
   "source": [
    "a = ('사과', '감', '배')\n",
    "# 리스트와 같지만 불변 즉 수정이 불가능한 집합\n",
    "print(a)"
   ]
  },
  {
   "cell_type": "code",
   "execution_count": 26,
   "id": "f30b41f8-e886-46e1-8b0b-9581be4a7b12",
   "metadata": {},
   "outputs": [],
   "source": [
    "people = [\n",
    "    {'name' : 'bob', 'age' : 27},\n",
    "    {'name' : 'john', 'age' : 30 }\n",
    "]\n",
    "people = (\n",
    "    {'name' : 'bob', 'age' : 27},\n",
    "    {'name' : 'john', 'age' : 30 }\n",
    ")\n",
    "# 구분"
   ]
  },
  {
   "cell_type": "code",
   "execution_count": 28,
   "id": "4e527c96-0874-4567-9b3b-35788fb204ad",
   "metadata": {},
   "outputs": [
    {
     "data": {
      "text/plain": [
       "{1, 2, 3, 4, 5, 6, 7}"
      ]
     },
     "execution_count": 28,
     "metadata": {},
     "output_type": "execute_result"
    }
   ],
   "source": [
    "a = (1,2,3,3,4,5,6,6,2,7)\n",
    "\n",
    "a_set = set(a) # 중복 제거\n",
    "a_set"
   ]
  },
  {
   "cell_type": "code",
   "execution_count": 29,
   "id": "76ed28df-0c75-4a15-a516-b3359dbd0694",
   "metadata": {},
   "outputs": [
    {
     "ename": "TypeError",
     "evalue": "unsupported operand type(s) for &: 'list' and 'list'",
     "output_type": "error",
     "traceback": [
      "\u001b[1;31m---------------------------------------------------------------------------\u001b[0m",
      "\u001b[1;31mTypeError\u001b[0m                                 Traceback (most recent call last)",
      "\u001b[1;32m~\\AppData\\Local\\Temp\\ipykernel_23752\\4080238901.py\u001b[0m in \u001b[0;36m<module>\u001b[1;34m\u001b[0m\n\u001b[0;32m      2\u001b[0m \u001b[0mb\u001b[0m \u001b[1;33m=\u001b[0m \u001b[1;33m[\u001b[0m\u001b[1;34m'사과'\u001b[0m\u001b[1;33m,\u001b[0m\u001b[1;34m'멜론'\u001b[0m\u001b[1;33m,\u001b[0m\u001b[1;34m'청포도'\u001b[0m\u001b[1;33m,\u001b[0m\u001b[1;34m'토마토'\u001b[0m\u001b[1;33m,\u001b[0m\u001b[1;34m'참외'\u001b[0m\u001b[1;33m]\u001b[0m\u001b[1;33m\u001b[0m\u001b[1;33m\u001b[0m\u001b[0m\n\u001b[0;32m      3\u001b[0m \u001b[1;33m\u001b[0m\u001b[0m\n\u001b[1;32m----> 4\u001b[1;33m \u001b[0mprint\u001b[0m\u001b[1;33m(\u001b[0m\u001b[0ma\u001b[0m \u001b[1;33m&\u001b[0m \u001b[0mb\u001b[0m\u001b[1;33m)\u001b[0m  \u001b[1;31m# 교집합\u001b[0m\u001b[1;33m\u001b[0m\u001b[1;33m\u001b[0m\u001b[0m\n\u001b[0m\u001b[0;32m      5\u001b[0m \u001b[0mprint\u001b[0m\u001b[1;33m(\u001b[0m\u001b[0ma\u001b[0m \u001b[1;33m|\u001b[0m \u001b[0mb\u001b[0m\u001b[1;33m)\u001b[0m  \u001b[1;31m# 합집합\u001b[0m\u001b[1;33m\u001b[0m\u001b[1;33m\u001b[0m\u001b[0m\n",
      "\u001b[1;31mTypeError\u001b[0m: unsupported operand type(s) for &: 'list' and 'list'"
     ]
    }
   ],
   "source": [
    "a = ['사과','감','수박','참외','딸기']\n",
    "b = ['사과','멜론','청포도','토마토','참외']\n",
    "\n",
    "print(a & b)  # 교집합\n",
    "print(a | b)  # 합집합"
   ]
  },
  {
   "cell_type": "code",
   "execution_count": null,
   "id": "006786d6-1276-4609-95c5-80f71bfbf1dd",
   "metadata": {},
   "outputs": [
    {
     "name": "stdout",
     "output_type": "stream",
     "text": [
      "{'미술', '화학2', '수학1', '화학1', '체육', '국어', '물리1', '음악', '물리2'}\n"
     ]
    }
   ],
   "source": [
    "student_a = ['물리2','국어','수학1','음악','화학1','화학2','체육']\n",
    "student_b = ['물리1','수학1','미술','화학2','체육']\n",
    "\n",
    "set_a = set(student_a)\n",
    "set_b = set(student_b)\n",
    "\n",
    "print(set_a-set_b)"
   ]
  },
  {
   "cell_type": "markdown",
   "id": "aa1c784a-5483-4824-872d-bb17004e2b79",
   "metadata": {
    "jp-MarkdownHeadingCollapsed": true,
    "tags": []
   },
   "source": [
    "### 8. F-string"
   ]
  },
  {
   "cell_type": "code",
   "execution_count": null,
   "id": "9fecbf3d-5ee0-4124-81b3-a2d2ecc2ea82",
   "metadata": {},
   "outputs": [],
   "source": [
    "# 자주 쓰는 문법\n",
    "scores = [\n",
    "    {'name':'영수','score':70},\n",
    "    {'name':'영희','score':65},\n",
    "    {'name':'기찬','score':75},\n",
    "    {'name':'희수','score':23},\n",
    "    {'name':'서경','score':99},\n",
    "    {'name':'미주','score':100},\n",
    "    {'name':'병태','score':32}    \n",
    "]"
   ]
  },
  {
   "cell_type": "code",
   "execution_count": null,
   "id": "cd612c8a-a935-443b-bef7-dab641c435cf",
   "metadata": {},
   "outputs": [
    {
     "name": "stdout",
     "output_type": "stream",
     "text": [
      "영수의 점수는 70점 입니다.\n",
      "영수의 점수는 70점 입니다.\n",
      "영희의 점수는 65점 입니다.\n",
      "영희의 점수는 65점 입니다.\n",
      "기찬의 점수는 75점 입니다.\n",
      "기찬의 점수는 75점 입니다.\n",
      "희수의 점수는 23점 입니다.\n",
      "희수의 점수는 23점 입니다.\n",
      "서경의 점수는 99점 입니다.\n",
      "서경의 점수는 99점 입니다.\n",
      "미주의 점수는 100점 입니다.\n",
      "미주의 점수는 100점 입니다.\n",
      "병태의 점수는 32점 입니다.\n",
      "병태의 점수는 32점 입니다.\n"
     ]
    }
   ],
   "source": [
    "for s in scores :\n",
    "    name = s['name']\n",
    "    score = str(s['score'])\n",
    "    print(name +'의 점수는 '+ score +'점 입니다.')\n",
    "    print(f'{name}의 점수는 {score}점 입니다.') # f-string"
   ]
  },
  {
   "cell_type": "markdown",
   "id": "52d15abe-189b-4e60-b0b5-5447dadb3f3d",
   "metadata": {
    "jp-MarkdownHeadingCollapsed": true,
    "tags": []
   },
   "source": [
    "### 9. 예외처리 try 와 except 잘 안 쓰지만 참고"
   ]
  },
  {
   "cell_type": "code",
   "execution_count": null,
   "id": "d1e7105a-6bf5-4d2a-898e-cae80ab748f0",
   "metadata": {},
   "outputs": [
    {
     "name": "stdout",
     "output_type": "stream",
     "text": [
      "carry\n",
      "ben\n",
      "bobby 에러입니다\n",
      "red\n",
      "queen\n"
     ]
    }
   ],
   "source": [
    "people = [\n",
    "    {'name': 'bob', 'age': 20},\n",
    "    {'name': 'carry', 'age': 38},\n",
    "    {'name': 'john', 'age': 7},\n",
    "    {'name': 'smith', 'age': 17},\n",
    "    {'name': 'ben', 'age': 27},\n",
    "    {'name': 'bobby'},\n",
    "    {'name': 'red', 'age': 32},\n",
    "    {'name': 'queen', 'age': 25}\n",
    "]\n",
    "\n",
    "for person in people:\n",
    "    try : \n",
    "        if person['age'] > 20:\n",
    "            print (person['name'])\n",
    "    except :\n",
    "        print(person['name'], '에러입니다')"
   ]
  },
  {
   "cell_type": "markdown",
   "id": "777b10c6-dd06-4294-96bf-95a3a5dd4a8c",
   "metadata": {
    "tags": []
   },
   "source": [
    "### 10. 파일 불러오기"
   ]
  },
  {
   "cell_type": "code",
   "execution_count": 30,
   "id": "85719018-9e50-4361-b61e-d9b31f5a82ba",
   "metadata": {},
   "outputs": [],
   "source": [
    "# main_func 페이지 함수를 만들어 놓은 다음\n",
    "def say_hi():\n",
    "\tprint('안녕!')"
   ]
  },
  {
   "cell_type": "code",
   "execution_count": 31,
   "id": "1c112a49-4308-4b21-8371-4f8bcc71b077",
   "metadata": {},
   "outputs": [
    {
     "ename": "ModuleNotFoundError",
     "evalue": "No module named 'main_func'",
     "output_type": "error",
     "traceback": [
      "\u001b[1;31m---------------------------------------------------------------------------\u001b[0m",
      "\u001b[1;31mModuleNotFoundError\u001b[0m                       Traceback (most recent call last)",
      "\u001b[1;32m~\\AppData\\Local\\Temp\\ipykernel_23752\\52613220.py\u001b[0m in \u001b[0;36m<module>\u001b[1;34m\u001b[0m\n\u001b[0;32m      1\u001b[0m \u001b[1;31m# 다른 페이지에서 불러올 수 있다.\u001b[0m\u001b[1;33m\u001b[0m\u001b[1;33m\u001b[0m\u001b[0m\n\u001b[1;32m----> 2\u001b[1;33m \u001b[1;32mfrom\u001b[0m \u001b[0mmain_func\u001b[0m \u001b[1;32mimport\u001b[0m \u001b[1;33m*\u001b[0m\u001b[1;33m\u001b[0m\u001b[1;33m\u001b[0m\u001b[0m\n\u001b[0m\u001b[0;32m      3\u001b[0m \u001b[1;33m\u001b[0m\u001b[0m\n\u001b[0;32m      4\u001b[0m \u001b[0msay_hi\u001b[0m\u001b[1;33m(\u001b[0m\u001b[1;33m)\u001b[0m\u001b[1;33m\u001b[0m\u001b[1;33m\u001b[0m\u001b[0m\n",
      "\u001b[1;31mModuleNotFoundError\u001b[0m: No module named 'main_func'"
     ]
    }
   ],
   "source": [
    "# 다른 페이지에서 불러올 수 있다.\n",
    "from main_func import *\n",
    "\n",
    "say_hi()"
   ]
  },
  {
   "cell_type": "markdown",
   "id": "4bb01f5a-8022-4016-bacc-4be1cd1cee7d",
   "metadata": {
    "tags": []
   },
   "source": [
    "### 11. 한 줄의 마법"
   ]
  },
  {
   "cell_type": "code",
   "execution_count": 32,
   "id": "39a7463e-9542-4b0c-8eac-fb5f6b1f3b11",
   "metadata": {},
   "outputs": [
    {
     "name": "stdout",
     "output_type": "stream",
     "text": [
      "3은 홀수입니다.\n"
     ]
    }
   ],
   "source": [
    "num = 3\n",
    "\n",
    "if num%2 == 0:\n",
    "    result = \"짝수\"\n",
    "else:\n",
    "    result = \"홀수\"\n",
    "\n",
    "print(f\"{num}은 {result}입니다.\")"
   ]
  },
  {
   "cell_type": "code",
   "execution_count": null,
   "id": "ae0dec05-7578-45b9-ab6f-2903fba4aa55",
   "metadata": {},
   "outputs": [
    {
     "name": "stdout",
     "output_type": "stream",
     "text": [
      "3은 홀수입니다.\n"
     ]
    }
   ],
   "source": [
    "num = 3\n",
    "\n",
    "result = \"짝수\" if num%2 == 0 else \"홀수\"\n",
    "# 짝수라고 해라 if라면 아니면 홀수라고 해라\n",
    "# (참일 때 값) if (조건) else (거짓일 때 값)으로 항이 3개라 삼항 연산자입니다 \n",
    "print(f\"{num}은 {result}입니다.\")"
   ]
  },
  {
   "cell_type": "code",
   "execution_count": 33,
   "id": "dd7a243f-4a34-4dee-b6c1-0d5391b587b9",
   "metadata": {},
   "outputs": [
    {
     "name": "stdout",
     "output_type": "stream",
     "text": [
      "[2, 6, 4, 10, 2, 4]\n"
     ]
    }
   ],
   "source": [
    "#for 문\n",
    "a_list  = [1, 3, 2, 5, 1, 2]\n",
    "\n",
    "b_list = []\n",
    "for a in a_list:\n",
    "    b_list.append(a*2)\n",
    "\n",
    "print(b_list)"
   ]
  },
  {
   "cell_type": "code",
   "execution_count": 34,
   "id": "a4d88b36-8dd4-4cb4-bc8f-a9c273f4126e",
   "metadata": {},
   "outputs": [
    {
     "name": "stdout",
     "output_type": "stream",
     "text": [
      "[2, 6, 4, 10, 2, 4]\n"
     ]
    }
   ],
   "source": [
    "a_list  = [1, 3, 2, 5, 1, 2]\n",
    "\n",
    "b_list = [a*2 for a in a_list]\n",
    "\n",
    "print(b_list)"
   ]
  },
  {
   "cell_type": "markdown",
   "id": "40cd52a3-40a6-45ee-9c29-ff2d8849290f",
   "metadata": {
    "tags": []
   },
   "source": [
    "### 12. map, filter, lamda 식"
   ]
  },
  {
   "cell_type": "code",
   "execution_count": 35,
   "id": "0bdc8e59-3eb5-4070-b2e2-2384b4c7572c",
   "metadata": {},
   "outputs": [],
   "source": [
    "people = [\n",
    "    {'name': 'bob', 'age': 20},\n",
    "    {'name': 'carry', 'age': 38},\n",
    "    {'name': 'john', 'age': 7},\n",
    "    {'name': 'smith', 'age': 17},\n",
    "    {'name': 'ben', 'age': 27},\n",
    "    {'name': 'bobby', 'age': 57},\n",
    "    {'name': 'red', 'age': 32},\n",
    "    {'name': 'queen', 'age': 25}\n",
    "]"
   ]
  },
  {
   "cell_type": "code",
   "execution_count": 36,
   "id": "1c77a0bd-b3ef-443d-974e-b7e6d9b7ba05",
   "metadata": {},
   "outputs": [
    {
     "name": "stdout",
     "output_type": "stream",
     "text": [
      "['성인', '성인', '성인', '성인', '성인', '성인', '성인', '성인']\n"
     ]
    }
   ],
   "source": [
    "def check_adult(person):\n",
    "    if person['age'] > 20:\n",
    "        return '성인'\n",
    "    else:\n",
    "        return '청소년'\n",
    "# return ('성인' if person['age'] > 2 else '청소년')\n",
    "\n",
    "result = map(check_adult, people)\n",
    "result = map(lambda person : ('성인' if person['age'] > 2 else '청소년'), people)\n",
    "\n",
    "print(list(result))"
   ]
  },
  {
   "cell_type": "code",
   "execution_count": 37,
   "id": "4787447c-e0d8-40c1-baa0-70ec541f81b8",
   "metadata": {
    "jupyter": {
     "source_hidden": true
    },
    "tags": []
   },
   "outputs": [
    {
     "name": "stdout",
     "output_type": "stream",
     "text": [
      "[{'name': 'carry', 'age': 38}, {'name': 'ben', 'age': 27}, {'name': 'bobby', 'age': 57}, {'name': 'red', 'age': 32}, {'name': 'queen', 'age': 25}]\n"
     ]
    }
   ],
   "source": [
    "result = filter(lambda person : person['age'] >20, people)\n",
    "# lambda x : x[] 조건, \n",
    "print(list(result))"
   ]
  },
  {
   "cell_type": "markdown",
   "id": "5d93f7b5-4139-4685-a7a8-c15baba1203d",
   "metadata": {},
   "source": [
    "### 13 함수 심화 라이브러리 가져다 쓸 때"
   ]
  },
  {
   "cell_type": "code",
   "execution_count": 38,
   "id": "cb82a623-7a6f-4080-8ea7-1f5fc375fdbe",
   "metadata": {},
   "outputs": [
    {
     "name": "stdout",
     "output_type": "stream",
     "text": [
      "13\n",
      "11\n",
      "13\n",
      "13\n"
     ]
    }
   ],
   "source": [
    "# 함수에 인수를 넣을 때, 어떤 매개변수에 어떤 값을 넣을지 정해줄 수 있다. 순서 상관 없음\n",
    "def cal(a, b): # b=2 하는 경우 디폴트값 설정\n",
    "    return a + 2 * b\n",
    "\n",
    "print(cal(3, 5))\n",
    "print(cal(5, 3))\n",
    "print(cal(a=3, b=5))\n",
    "print(cal(b=5, a=3))"
   ]
  },
  {
   "cell_type": "code",
   "execution_count": 39,
   "id": "2274f889-f668-4185-a1d6-0e50381b1efd",
   "metadata": {},
   "outputs": [
    {
     "name": "stdout",
     "output_type": "stream",
     "text": [
      "철수야 밥먹어라~\n",
      "영수야 밥먹어라~\n",
      "희재야 밥먹어라~\n"
     ]
    }
   ],
   "source": [
    "# 입력값의 개수를 지정하지 않고 모두 받는 방법!\n",
    "def call_names(*args):\n",
    "    for name in args:\n",
    "        print(f'{name}야 밥먹어라~')\n",
    "\n",
    "call_names('철수','영수','희재')"
   ]
  },
  {
   "cell_type": "code",
   "execution_count": 40,
   "id": "05041395-1d18-4d90-b0cb-0ba3953cedfc",
   "metadata": {},
   "outputs": [
    {
     "name": "stdout",
     "output_type": "stream",
     "text": [
      "{'name': 'bob'}\n",
      "{'name': 'john', 'age': '27'}\n"
     ]
    }
   ],
   "source": [
    "# 키워드 인수를 여러 개 받는 방법!\n",
    "def get_kwargs(**kwargs):\n",
    "    print(kwargs)\n",
    "\n",
    "get_kwargs(name='bob')\n",
    "get_kwargs(name='john', age='27')"
   ]
  },
  {
   "cell_type": "markdown",
   "id": "0b050889-b0cb-4237-8291-9c64561dfabb",
   "metadata": {
    "tags": []
   },
   "source": [
    "### 14. 클래스\n",
    "- 언제 쓰는지 아는 것이 중요하다|"
   ]
  },
  {
   "cell_type": "code",
   "execution_count": 41,
   "id": "aafbcebc-81eb-4437-80a9-76324e616665",
   "metadata": {},
   "outputs": [
    {
     "name": "stdout",
     "output_type": "stream",
     "text": [
      "죽었다\n",
      "살아있다\n"
     ]
    }
   ],
   "source": [
    "class Monster():\n",
    "    hp = 100\n",
    "    alive = True\n",
    "\n",
    "    def damage(self, attack):\n",
    "        self.hp = self.hp - attack\n",
    "        if self.hp < 0:\n",
    "            self.alive = False\n",
    "\n",
    "    def status_check(self):\n",
    "        if self.alive: # self.alive == True\n",
    "            print('살아있다')\n",
    "        else:\n",
    "            print('죽었다')\n",
    "\n",
    "m = Monster()\n",
    "m.damage(120)\n",
    "\n",
    "m2 = Monster()\n",
    "m2.damage(90)\n",
    "\n",
    "m.status_check()\n",
    "m2.status_check()"
   ]
  }
 ],
 "metadata": {
  "kernelspec": {
   "display_name": "Python 3 (ipykernel)",
   "language": "python",
   "name": "python3"
  },
  "language_info": {
   "codemirror_mode": {
    "name": "ipython",
    "version": 3
   },
   "file_extension": ".py",
   "mimetype": "text/x-python",
   "name": "python",
   "nbconvert_exporter": "python",
   "pygments_lexer": "ipython3",
   "version": "3.9.13"
  }
 },
 "nbformat": 4,
 "nbformat_minor": 5
}
